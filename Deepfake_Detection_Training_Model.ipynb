{
 "cells": [
  {
   "cell_type": "markdown",
   "metadata": {
    "id": "uyTnnQuUVNkc"
   },
   "source": [
    "#Import section"
   ]
  },
  {
   "cell_type": "code",
   "execution_count": null,
   "metadata": {
    "colab": {
     "base_uri": "https://localhost:8080/"
    },
    "id": "IjZf49gOw8xC",
    "outputId": "6459d400-c91f-4c5f-fea9-774b7155af1d"
   },
   "outputs": [
    {
     "name": "stdout",
     "output_type": "stream",
     "text": [
      "Requirement already satisfied: transformers in /usr/local/lib/python3.10/dist-packages (4.44.2)\n",
      "Collecting datasets\n",
      "  Downloading datasets-2.21.0-py3-none-any.whl.metadata (21 kB)\n",
      "Requirement already satisfied: filelock in /usr/local/lib/python3.10/dist-packages (from transformers) (3.15.4)\n",
      "Requirement already satisfied: huggingface-hub<1.0,>=0.23.2 in /usr/local/lib/python3.10/dist-packages (from transformers) (0.24.6)\n",
      "Requirement already satisfied: numpy>=1.17 in /usr/local/lib/python3.10/dist-packages (from transformers) (1.26.4)\n",
      "Requirement already satisfied: packaging>=20.0 in /usr/local/lib/python3.10/dist-packages (from transformers) (24.1)\n",
      "Requirement already satisfied: pyyaml>=5.1 in /usr/local/lib/python3.10/dist-packages (from transformers) (6.0.2)\n",
      "Requirement already satisfied: regex!=2019.12.17 in /usr/local/lib/python3.10/dist-packages (from transformers) (2024.5.15)\n",
      "Requirement already satisfied: requests in /usr/local/lib/python3.10/dist-packages (from transformers) (2.32.3)\n",
      "Requirement already satisfied: safetensors>=0.4.1 in /usr/local/lib/python3.10/dist-packages (from transformers) (0.4.4)\n",
      "Requirement already satisfied: tokenizers<0.20,>=0.19 in /usr/local/lib/python3.10/dist-packages (from transformers) (0.19.1)\n",
      "Requirement already satisfied: tqdm>=4.27 in /usr/local/lib/python3.10/dist-packages (from transformers) (4.66.5)\n",
      "Collecting pyarrow>=15.0.0 (from datasets)\n",
      "  Downloading pyarrow-17.0.0-cp310-cp310-manylinux_2_28_x86_64.whl.metadata (3.3 kB)\n",
      "Collecting dill<0.3.9,>=0.3.0 (from datasets)\n",
      "  Downloading dill-0.3.8-py3-none-any.whl.metadata (10 kB)\n",
      "Requirement already satisfied: pandas in /usr/local/lib/python3.10/dist-packages (from datasets) (2.1.4)\n",
      "Collecting xxhash (from datasets)\n",
      "  Downloading xxhash-3.5.0-cp310-cp310-manylinux_2_17_x86_64.manylinux2014_x86_64.whl.metadata (12 kB)\n",
      "Collecting multiprocess (from datasets)\n",
      "  Downloading multiprocess-0.70.16-py310-none-any.whl.metadata (7.2 kB)\n",
      "Requirement already satisfied: fsspec<=2024.6.1,>=2023.1.0 in /usr/local/lib/python3.10/dist-packages (from fsspec[http]<=2024.6.1,>=2023.1.0->datasets) (2024.6.1)\n",
      "Requirement already satisfied: aiohttp in /usr/local/lib/python3.10/dist-packages (from datasets) (3.10.5)\n",
      "Requirement already satisfied: aiohappyeyeballs>=2.3.0 in /usr/local/lib/python3.10/dist-packages (from aiohttp->datasets) (2.4.0)\n",
      "Requirement already satisfied: aiosignal>=1.1.2 in /usr/local/lib/python3.10/dist-packages (from aiohttp->datasets) (1.3.1)\n",
      "Requirement already satisfied: attrs>=17.3.0 in /usr/local/lib/python3.10/dist-packages (from aiohttp->datasets) (24.2.0)\n",
      "Requirement already satisfied: frozenlist>=1.1.1 in /usr/local/lib/python3.10/dist-packages (from aiohttp->datasets) (1.4.1)\n",
      "Requirement already satisfied: multidict<7.0,>=4.5 in /usr/local/lib/python3.10/dist-packages (from aiohttp->datasets) (6.0.5)\n",
      "Requirement already satisfied: yarl<2.0,>=1.0 in /usr/local/lib/python3.10/dist-packages (from aiohttp->datasets) (1.9.4)\n",
      "Requirement already satisfied: async-timeout<5.0,>=4.0 in /usr/local/lib/python3.10/dist-packages (from aiohttp->datasets) (4.0.3)\n",
      "Requirement already satisfied: typing-extensions>=3.7.4.3 in /usr/local/lib/python3.10/dist-packages (from huggingface-hub<1.0,>=0.23.2->transformers) (4.12.2)\n",
      "Requirement already satisfied: charset-normalizer<4,>=2 in /usr/local/lib/python3.10/dist-packages (from requests->transformers) (3.3.2)\n",
      "Requirement already satisfied: idna<4,>=2.5 in /usr/local/lib/python3.10/dist-packages (from requests->transformers) (3.8)\n",
      "Requirement already satisfied: urllib3<3,>=1.21.1 in /usr/local/lib/python3.10/dist-packages (from requests->transformers) (2.0.7)\n",
      "Requirement already satisfied: certifi>=2017.4.17 in /usr/local/lib/python3.10/dist-packages (from requests->transformers) (2024.8.30)\n",
      "Requirement already satisfied: python-dateutil>=2.8.2 in /usr/local/lib/python3.10/dist-packages (from pandas->datasets) (2.8.2)\n",
      "Requirement already satisfied: pytz>=2020.1 in /usr/local/lib/python3.10/dist-packages (from pandas->datasets) (2024.1)\n",
      "Requirement already satisfied: tzdata>=2022.1 in /usr/local/lib/python3.10/dist-packages (from pandas->datasets) (2024.1)\n",
      "Requirement already satisfied: six>=1.5 in /usr/local/lib/python3.10/dist-packages (from python-dateutil>=2.8.2->pandas->datasets) (1.16.0)\n",
      "Downloading datasets-2.21.0-py3-none-any.whl (527 kB)\n",
      "\u001b[2K   \u001b[90m━━━━━━━━━━━━━━━━━━━━━━━━━━━━━━━━━━━━━━━━\u001b[0m \u001b[32m527.3/527.3 kB\u001b[0m \u001b[31m10.1 MB/s\u001b[0m eta \u001b[36m0:00:00\u001b[0m\n",
      "\u001b[?25hDownloading dill-0.3.8-py3-none-any.whl (116 kB)\n",
      "\u001b[2K   \u001b[90m━━━━━━━━━━━━━━━━━━━━━━━━━━━━━━━━━━━━━━━━\u001b[0m \u001b[32m116.3/116.3 kB\u001b[0m \u001b[31m7.0 MB/s\u001b[0m eta \u001b[36m0:00:00\u001b[0m\n",
      "\u001b[?25hDownloading pyarrow-17.0.0-cp310-cp310-manylinux_2_28_x86_64.whl (39.9 MB)\n",
      "\u001b[2K   \u001b[90m━━━━━━━━━━━━━━━━━━━━━━━━━━━━━━━━━━━━━━━━\u001b[0m \u001b[32m39.9/39.9 MB\u001b[0m \u001b[31m10.9 MB/s\u001b[0m eta \u001b[36m0:00:00\u001b[0m\n",
      "\u001b[?25hDownloading multiprocess-0.70.16-py310-none-any.whl (134 kB)\n",
      "\u001b[2K   \u001b[90m━━━━━━━━━━━━━━━━━━━━━━━━━━━━━━━━━━━━━━━━\u001b[0m \u001b[32m134.8/134.8 kB\u001b[0m \u001b[31m5.4 MB/s\u001b[0m eta \u001b[36m0:00:00\u001b[0m\n",
      "\u001b[?25hDownloading xxhash-3.5.0-cp310-cp310-manylinux_2_17_x86_64.manylinux2014_x86_64.whl (194 kB)\n",
      "\u001b[2K   \u001b[90m━━━━━━━━━━━━━━━━━━━━━━━━━━━━━━━━━━━━━━━━\u001b[0m \u001b[32m194.1/194.1 kB\u001b[0m \u001b[31m10.5 MB/s\u001b[0m eta \u001b[36m0:00:00\u001b[0m\n",
      "\u001b[?25hInstalling collected packages: xxhash, pyarrow, dill, multiprocess, datasets\n",
      "  Attempting uninstall: pyarrow\n",
      "    Found existing installation: pyarrow 14.0.2\n",
      "    Uninstalling pyarrow-14.0.2:\n",
      "      Successfully uninstalled pyarrow-14.0.2\n",
      "\u001b[31mERROR: pip's dependency resolver does not currently take into account all the packages that are installed. This behaviour is the source of the following dependency conflicts.\n",
      "cudf-cu12 24.4.1 requires pyarrow<15.0.0a0,>=14.0.1, but you have pyarrow 17.0.0 which is incompatible.\n",
      "ibis-framework 8.0.0 requires pyarrow<16,>=2, but you have pyarrow 17.0.0 which is incompatible.\u001b[0m\u001b[31m\n",
      "\u001b[0mSuccessfully installed datasets-2.21.0 dill-0.3.8 multiprocess-0.70.16 pyarrow-17.0.0 xxhash-3.5.0\n"
     ]
    }
   ],
   "source": [
    "!pip install transformers datasets"
   ]
  },
  {
   "cell_type": "code",
   "execution_count": null,
   "metadata": {
    "colab": {
     "base_uri": "https://localhost:8080/"
    },
    "id": "1O-5X_QpP4_I",
    "outputId": "c4d80aeb-1ee5-44e9-8cbd-68e34b43fcf7"
   },
   "outputs": [
    {
     "name": "stdout",
     "output_type": "stream",
     "text": [
      "Mounted at /content/drive\n"
     ]
    }
   ],
   "source": [
    "from datasets import load_dataset, Dataset\n",
    "\n",
    "import torch\n",
    "from torch import nn\n",
    "from torch.utils.data import DataLoader, Subset, random_split\n",
    "from torchvision import models, transforms\n",
    "import torch.nn.functional as F\n",
    "from torchvision.datasets import ImageFolder\n",
    "import torch.optim as optim\n",
    "\n",
    "from transformers import TrainingArguments, Trainer, AutoImageProcessor, BeitModel\n",
    "\n",
    "import random\n",
    "\n",
    "import matplotlib.pyplot as plt\n",
    "import seaborn as sns\n",
    "\n",
    "import pandas as pd\n",
    "\n",
    "import matplotlib.pyplot as plt\n",
    "import seaborn as sns\n",
    "from collections import Counter\n",
    "\n",
    "from google.colab import drive\n",
    "\n",
    "import zipfile\n",
    "import os\n",
    "import shutil\n",
    "from PIL import Image\n",
    "\n",
    "drive.mount('/content/drive')\n",
    "\n",
    "device = torch.device(\"cuda\") if torch.cuda.is_available() else torch.device(\"cpu\")\n"
   ]
  },
  {
   "cell_type": "markdown",
   "metadata": {
    "id": "A3K-irZZyc6C"
   },
   "source": [
    "#Data Section"
   ]
  },
  {
   "cell_type": "markdown",
   "metadata": {
    "id": "G-iBu3G4VwpA"
   },
   "source": [
    "##Transform and Collate"
   ]
  },
  {
   "cell_type": "markdown",
   "metadata": {
    "id": "GfJWOJ1tV8Am"
   },
   "source": [
    "We define two transformations: one for VGG16 and one for the BEiT model"
   ]
  },
  {
   "cell_type": "code",
   "execution_count": null,
   "metadata": {
    "colab": {
     "base_uri": "https://localhost:8080/",
     "height": 173,
     "referenced_widgets": [
      "0e1ac90dd411406ea62cc28ec6aaddae",
      "11f9b9b49b654dc7bb68fc1aef547c78",
      "530898ecc2cf4183a7c5579480db6f13",
      "b61ae5cc7892417595356070e50af15a",
      "d76283127e854bbdb122aa4ee37d4e63",
      "450c6bfab2f64a068ac38679a458d78a",
      "1be8f499c2d447139b8e1882d90427c0",
      "96ea05fe49ea4fd9af2d1f402559ba29",
      "48d62a5010ac4a0b810f77686d657d34",
      "e3d9b6e4249a4090b8f929a2ce9699d2",
      "745b78d9df21456ba3d76f16f89736a8"
     ]
    },
    "id": "I279L_x1yt7q",
    "outputId": "06d087e6-2ee8-4df4-fd85-cef3117bb302"
   },
   "outputs": [
    {
     "name": "stderr",
     "output_type": "stream",
     "text": [
      "/usr/local/lib/python3.10/dist-packages/huggingface_hub/utils/_token.py:89: UserWarning: \n",
      "The secret `HF_TOKEN` does not exist in your Colab secrets.\n",
      "To authenticate with the Hugging Face Hub, create a token in your settings tab (https://huggingface.co/settings/tokens), set it as secret in your Google Colab and restart your session.\n",
      "You will be able to reuse this secret in all of your notebooks.\n",
      "Please note that authentication is recommended but still optional to access public models or datasets.\n",
      "  warnings.warn(\n"
     ]
    },
    {
     "data": {
      "application/vnd.jupyter.widget-view+json": {
       "model_id": "0e1ac90dd411406ea62cc28ec6aaddae",
       "version_major": 2,
       "version_minor": 0
      },
      "text/plain": [
       "preprocessor_config.json:   0%|          | 0.00/276 [00:00<?, ?B/s]"
      ]
     },
     "metadata": {},
     "output_type": "display_data"
    }
   ],
   "source": [
    "#VGG16 transform\n",
    "transform_vgg = transforms.Compose([\n",
    "    transforms.Resize((224, 224)),\n",
    "    transforms.ToTensor(),\n",
    "    transforms.Normalize((0.5, 0.5, 0.5), (0.5, 0.5, 0.5)),\n",
    "])\n",
    "\n",
    "#BEiT transform\n",
    "beit_image_processor = AutoImageProcessor.from_pretrained(\"microsoft/beit-base-patch16-224-pt22k\")\n",
    "\n",
    "transform_beit = lambda image: torch.squeeze(beit_image_processor(image, return_tensors=\"pt\")['pixel_values'])"
   ]
  },
  {
   "cell_type": "markdown",
   "metadata": {
    "id": "7e-UjxwXW0CW"
   },
   "source": [
    "Wrapper class for the transformations is required because we will work on both the image and the label"
   ]
  },
  {
   "cell_type": "code",
   "execution_count": null,
   "metadata": {
    "id": "LX528hEKye0U"
   },
   "outputs": [],
   "source": [
    "class TransformWrapper:\n",
    "    def __init__(self, transform_vgg, transform_beit):\n",
    "        self.transform_vgg = transform_vgg\n",
    "        self.transform_beit = transform_beit\n",
    "\n",
    "    def __call__(self, image, label):\n",
    "\n",
    "        # Return a dictionary with image and label\n",
    "        return {\n",
    "            'vgg16_image': transform_vgg(image),\n",
    "            'beit_image': transform_beit(image),\n",
    "            'label': label\n",
    "        }"
   ]
  },
  {
   "cell_type": "markdown",
   "metadata": {
    "id": "fRr33-dNTpBu"
   },
   "source": [
    "Collate definition"
   ]
  },
  {
   "cell_type": "code",
   "execution_count": null,
   "metadata": {
    "id": "wFr0HGoIToib"
   },
   "outputs": [],
   "source": [
    "def collate_fn(batch):\n",
    "  vgg16_images = torch.stack([item['vgg16_image'] for item in batch])\n",
    "  beit_images = torch.stack([item['beit_image'] for item in batch])\n",
    "  labels = torch.tensor([item['label'] for item in batch])\n",
    "  return {'vgg16_images': vgg16_images, 'beit_images': beit_images, 'labels': labels}"
   ]
  },
  {
   "cell_type": "markdown",
   "metadata": {
    "id": "1OYa3LvcyBD2"
   },
   "source": [
    "##Load Deepfake Challenge Dataset\n",
    "\n",
    "This is the dataset used for the training part.\n",
    "Ref to this [link](https://iplab.dmi.unict.it/deepfakechallenge/) for further details about the dataset."
   ]
  },
  {
   "cell_type": "markdown",
   "metadata": {
    "id": "g4pOsqFaXfgz"
   },
   "source": [
    "This is the class that wraps the training dataset. It is similar to the `ImageFolder` class of PyTorch but it is adapted for the folder structure of the training dataset."
   ]
  },
  {
   "cell_type": "code",
   "execution_count": null,
   "metadata": {
    "id": "tzQUCuuD19TU"
   },
   "outputs": [],
   "source": [
    "class DeepfakeChallengeDataset(Dataset):\n",
    "    def __init__(self, root_dir, transform):\n",
    "        self.root_dir = root_dir\n",
    "        self.transform = transform\n",
    "        self.image_paths = []\n",
    "        self.labels = []\n",
    "\n",
    "        # Recursively read the directory structure and collect image paths and labels\n",
    "        for label_name in os.listdir(root_dir):\n",
    "            label_dir = os.path.join(root_dir, label_name)\n",
    "            if os.path.isdir(label_dir):\n",
    "                for subdir in os.listdir(label_dir):\n",
    "                    subdir_path = os.path.join(label_dir, subdir)\n",
    "                    if os.path.isdir(subdir_path):\n",
    "                        for img_file in os.listdir(subdir_path):\n",
    "                            if img_file.endswith(('.jpg', '.jpeg', '.png')):\n",
    "                                img_path = os.path.join(subdir_path, img_file)\n",
    "                                self.image_paths.append(img_path)\n",
    "                                self.labels.append(int(label_name))  # Use the folder name as label\n",
    "\n",
    "    def __len__(self):\n",
    "        return len(self.image_paths)\n",
    "\n",
    "    def __getitem__(self, idx):\n",
    "        img_path = self.image_paths[idx]\n",
    "        image = Image.open(img_path).convert(\"RGB\")\n",
    "        label = self.labels[idx]\n",
    "\n",
    "        return self.transform(image, label)\n",
    "\n",
    "    def __getitems__(self, idx):\n",
    "        result = []\n",
    "        for i in idx:\n",
    "            img_path = self.image_paths[i]\n",
    "            image = Image.open(img_path).convert(\"RGB\")\n",
    "            label = self.labels[i]\n",
    "\n",
    "            transformation_result = self.transform(image, label)\n",
    "            result.append(transformation_result)\n",
    "        return result\n",
    "\n"
   ]
  },
  {
   "cell_type": "markdown",
   "metadata": {
    "id": "XM4Wow6ryJrq"
   },
   "source": [
    "Extract dataset zip file from google drive"
   ]
  },
  {
   "cell_type": "code",
   "execution_count": null,
   "metadata": {
    "id": "8o1noE_ryDVM"
   },
   "outputs": [],
   "source": [
    "zip_path = 'drive/MyDrive/ComputerVision/datasets/deepfakechallenge/training-task1.zip'\n",
    "extract_path = 'deepfakechallenge/'\n",
    "\n",
    "with zipfile.ZipFile(zip_path, 'r') as zip_ref:\n",
    "    zip_ref.extractall(extract_path)"
   ]
  },
  {
   "cell_type": "markdown",
   "metadata": {
    "id": "RKHEgaB5yOTY"
   },
   "source": [
    "Define dataset"
   ]
  },
  {
   "cell_type": "code",
   "execution_count": null,
   "metadata": {
    "id": "oonE2BmxyYh6"
   },
   "outputs": [],
   "source": [
    "challenge_dataset = DeepfakeChallengeDataset(root_dir=extract_path + 'training-task1', transform=TransformWrapper(transform_vgg, transform_beit))"
   ]
  },
  {
   "cell_type": "markdown",
   "metadata": {
    "id": "7XzeAL7vYD4_"
   },
   "source": [
    "Print sample"
   ]
  },
  {
   "cell_type": "code",
   "execution_count": null,
   "metadata": {
    "colab": {
     "base_uri": "https://localhost:8080/"
    },
    "id": "A9UoRwgfM430",
    "outputId": "0ca4474b-d034-4db9-e17d-b51d2ecfcc3c"
   },
   "outputs": [
    {
     "data": {
      "text/plain": [
       "{'vgg16_image': tensor([[[ 0.1216,  0.1373,  0.1373,  ...,  0.5686,  0.5059,  0.2471],\n",
       "          [ 0.1216,  0.1216,  0.1294,  ...,  0.5686,  0.4667,  0.1373],\n",
       "          [ 0.1451,  0.1294,  0.1216,  ...,  0.5529,  0.3882,  0.0510],\n",
       "          ...,\n",
       "          [-0.2706, -0.4588, -0.4196,  ..., -0.9137, -0.8118, -0.5294],\n",
       "          [-0.2392, -0.4431, -0.4196,  ..., -0.9216, -0.8118, -0.6078],\n",
       "          [-0.2157, -0.4431, -0.4353,  ..., -0.9294, -0.8353, -0.6392]],\n",
       " \n",
       "         [[-0.1294, -0.1216, -0.1216,  ...,  0.8824,  0.8275,  0.6235],\n",
       "          [-0.1137, -0.1059, -0.1137,  ...,  0.8902,  0.7882,  0.5451],\n",
       "          [-0.1216, -0.1059, -0.1059,  ...,  0.8745,  0.7333,  0.4745],\n",
       "          ...,\n",
       "          [-0.3804, -0.5765, -0.5922,  ..., -0.9059, -0.7882, -0.4667],\n",
       "          [-0.3490, -0.5765, -0.6000,  ..., -0.8980, -0.7882, -0.5451],\n",
       "          [-0.3333, -0.5765, -0.6078,  ..., -0.9059, -0.7961, -0.5765]],\n",
       " \n",
       "         [[-0.3412, -0.3255, -0.3412,  ...,  0.9216,  0.8745,  0.7333],\n",
       "          [-0.3569, -0.3333, -0.3412,  ...,  0.9294,  0.8510,  0.7098],\n",
       "          [-0.3412, -0.3333, -0.3412,  ...,  0.9216,  0.8118,  0.6706],\n",
       "          ...,\n",
       "          [-0.6471, -0.7412, -0.7098,  ..., -0.8745, -0.7725, -0.4667],\n",
       "          [-0.6235, -0.7412, -0.7176,  ..., -0.8745, -0.7569, -0.5137],\n",
       "          [-0.6157, -0.7569, -0.7412,  ..., -0.8824, -0.7961, -0.5686]]]),\n",
       " 'beit_image': tensor([[[ 0.1216,  0.1373,  0.1373,  ...,  0.5686,  0.5059,  0.2471],\n",
       "          [ 0.1216,  0.1216,  0.1294,  ...,  0.5686,  0.4667,  0.1373],\n",
       "          [ 0.1451,  0.1294,  0.1216,  ...,  0.5529,  0.3882,  0.0510],\n",
       "          ...,\n",
       "          [-0.2706, -0.4588, -0.4196,  ..., -0.9137, -0.8118, -0.5294],\n",
       "          [-0.2392, -0.4431, -0.4196,  ..., -0.9216, -0.8118, -0.6078],\n",
       "          [-0.2157, -0.4431, -0.4353,  ..., -0.9294, -0.8353, -0.6392]],\n",
       " \n",
       "         [[-0.1294, -0.1216, -0.1216,  ...,  0.8824,  0.8275,  0.6235],\n",
       "          [-0.1137, -0.1059, -0.1137,  ...,  0.8902,  0.7882,  0.5451],\n",
       "          [-0.1216, -0.1059, -0.1059,  ...,  0.8745,  0.7333,  0.4745],\n",
       "          ...,\n",
       "          [-0.3804, -0.5765, -0.5922,  ..., -0.9059, -0.7882, -0.4667],\n",
       "          [-0.3490, -0.5765, -0.6000,  ..., -0.8980, -0.7882, -0.5451],\n",
       "          [-0.3333, -0.5765, -0.6078,  ..., -0.9059, -0.7961, -0.5765]],\n",
       " \n",
       "         [[-0.3412, -0.3255, -0.3412,  ...,  0.9216,  0.8745,  0.7333],\n",
       "          [-0.3569, -0.3333, -0.3412,  ...,  0.9294,  0.8510,  0.7098],\n",
       "          [-0.3412, -0.3333, -0.3412,  ...,  0.9216,  0.8118,  0.6706],\n",
       "          ...,\n",
       "          [-0.6471, -0.7412, -0.7098,  ..., -0.8745, -0.7725, -0.4667],\n",
       "          [-0.6235, -0.7412, -0.7176,  ..., -0.8745, -0.7569, -0.5137],\n",
       "          [-0.6157, -0.7569, -0.7412,  ..., -0.8824, -0.7961, -0.5686]]]),\n",
       " 'label': 0}"
      ]
     },
     "execution_count": 9,
     "metadata": {},
     "output_type": "execute_result"
    }
   ],
   "source": [
    "challenge_dataset[1]"
   ]
  },
  {
   "cell_type": "markdown",
   "metadata": {
    "id": "bYzprQcU2m5b"
   },
   "source": [
    "Split dataset into training and validation `Subset` (80% - 20%)"
   ]
  },
  {
   "cell_type": "code",
   "execution_count": null,
   "metadata": {
    "colab": {
     "base_uri": "https://localhost:8080/"
    },
    "id": "VNAFryC-2n6Z",
    "outputId": "df96eec5-90dc-4ff6-ec71-9db162913c72"
   },
   "outputs": [
    {
     "name": "stderr",
     "output_type": "stream",
     "text": [
      "/usr/local/lib/python3.10/dist-packages/torch/utils/data/dataloader.py:557: UserWarning: This DataLoader will create 8 worker processes in total. Our suggested max number of worker in current system is 2, which is smaller than what this DataLoader is going to create. Please be aware that excessive worker creation might get DataLoader running slow or even freeze, lower the worker number to avoid potential slowness/freeze if necessary.\n",
      "  warnings.warn(_create_warning_msg(\n"
     ]
    }
   ],
   "source": [
    "# Set the split ratio\n",
    "dataset_size = len(challenge_dataset)\n",
    "split_ratio = 0.8\n",
    "train_size = int(split_ratio * dataset_size)\n",
    "val_size = dataset_size - train_size\n",
    "\n",
    "# Split the dataset\n",
    "train_dataset, val_dataset = random_split(challenge_dataset, [train_size, val_size])\n",
    "\n",
    "training_dataloader = DataLoader(train_dataset, batch_size=64, shuffle=True, num_workers=8, collate_fn=collate_fn)\n",
    "validation_dataloader = DataLoader(val_dataset, batch_size=64, shuffle=False, num_workers=8, collate_fn=collate_fn)"
   ]
  },
  {
   "cell_type": "markdown",
   "metadata": {
    "id": "j-o4oh3W6XgI"
   },
   "source": [
    "##Data analysis"
   ]
  },
  {
   "cell_type": "code",
   "execution_count": null,
   "metadata": {
    "colab": {
     "base_uri": "https://localhost:8080/",
     "height": 1000
    },
    "id": "4haVM8jxNExD",
    "outputId": "6855dab8-72f2-4502-bf4b-65a7ea02a8c9"
   },
   "outputs": [
    {
     "name": "stdout",
     "output_type": "stream",
     "text": [
      "Training Set Class Balance:\n",
      "  Class  Count\n",
      "0  Real   7986\n",
      "1  Fake   4014\n",
      "Validation Set Class Balance:\n",
      "  Class  Count\n",
      "0  Real   2014\n",
      "1  Fake    986\n"
     ]
    },
    {
     "data": {
      "image/png": "[encoded data removed]",
      "text/plain": [
       "<Figure size 1000x600 with 1 Axes>"
      ]
     },
     "metadata": {},
     "output_type": "display_data"
    },
    {
     "data": {
      "image/png": "[encoded data removed]",
      "text/plain": [
       "<Figure size 1000x600 with 1 Axes>"
      ]
     },
     "metadata": {},
     "output_type": "display_data"
    }
   ],
   "source": [
    "# Function to analyze class balance\n",
    "def analyze_class_balance(subset):\n",
    "    # Extract labels from the subset\n",
    "    labels = [sample['label'] for sample in subset]\n",
    "\n",
    "    # Count occurrences of each class\n",
    "    label_counts = Counter(labels)\n",
    "\n",
    "    # Map numeric labels to class names\n",
    "    classes = ['Real', 'Fake']\n",
    "    counts = list(label_counts.values())\n",
    "\n",
    "    # Create a DataFrame for visualization\n",
    "    df = pd.DataFrame({\n",
    "        'Class': classes,\n",
    "        'Count': counts\n",
    "    })\n",
    "\n",
    "    return df\n",
    "\n",
    "# Analyze class balance for training and validation sets\n",
    "train_class_balance = analyze_class_balance(train_dataset)\n",
    "val_class_balance = analyze_class_balance(val_dataset)\n",
    "\n",
    "# Print class balance\n",
    "print(\"Training Set Class Balance:\")\n",
    "print(train_class_balance)\n",
    "\n",
    "print(\"Validation Set Class Balance:\")\n",
    "print(val_class_balance)\n",
    "\n",
    "# Plot class balance\n",
    "def plot_class_balance(df, title):\n",
    "    plt.figure(figsize=(10, 6))\n",
    "    sns.barplot(x='Class', y='Count', data=df)\n",
    "    plt.xticks(rotation=90)\n",
    "    plt.title(title)\n",
    "    plt.show()\n",
    "\n",
    "# Plot class balance\n",
    "plot_class_balance(train_class_balance, 'Training Set Class Balance')\n",
    "plot_class_balance(val_class_balance, 'Validation Set Class Balance')"
   ]
  },
  {
   "cell_type": "markdown",
   "metadata": {
    "id": "hJqKohkBYg3W"
   },
   "source": [
    "#Model Section\n",
    "\n",
    "The model to be trained is a binary classifier based on VGG16 and BEiT features."
   ]
  },
  {
   "cell_type": "code",
   "execution_count": null,
   "metadata": {
    "id": "DU2jOWWPtaO8"
   },
   "outputs": [],
   "source": [
    "class VGG16_Beit(nn.Module):\n",
    "\n",
    "  def __init__(self, vgg16, beit):\n",
    "      super(VGG16_Beit, self).__init__()\n",
    "\n",
    "      #features\n",
    "      self.vgg16 = vgg16\n",
    "      self.beit = beit\n",
    "\n",
    "      #classifier\n",
    "      input_size = beit.config.hidden_size + vgg16.classifier[-1].out_features\n",
    "      self.fc1 = nn.Linear(input_size, 256)\n",
    "      self.fc2 = nn.Linear(256, 2)\n",
    "\n",
    "  def forward(self, vgg16_images, beit_images):\n",
    "\n",
    "    #features combination\n",
    "    vgg16_features = self.vgg16(vgg16_images)\n",
    "    beit_features = self.beit(beit_images)\n",
    "\n",
    "    combined_features = torch.cat([vgg16_features, beit_features.pooler_output], dim=1)\n",
    "\n",
    "    r1 = F.relu(self.fc1(combined_features))\n",
    "\n",
    "    #classify then\n",
    "    return self.fc2(r1)"
   ]
  },
  {
   "cell_type": "markdown",
   "metadata": {
    "id": "4ULa1k9na2yB"
   },
   "source": [
    "#Training Section"
   ]
  },
  {
   "cell_type": "markdown",
   "metadata": {
    "id": "FNPuUkNecAhO"
   },
   "source": [
    "##Model initialization"
   ]
  },
  {
   "cell_type": "markdown",
   "metadata": {
    "id": "WEBgEPLtZQWu"
   },
   "source": [
    "Freeze VGG16 and BEiT parameters because we want to train only the classifier on top"
   ]
  },
  {
   "cell_type": "code",
   "execution_count": null,
   "metadata": {
    "colab": {
     "base_uri": "https://localhost:8080/",
     "height": 240,
     "referenced_widgets": [
      "4e9ee7c938eb41b8b8c15c3ded31d566",
      "abad913159814e94b35ec5ae13b9e710",
      "cb687750b841437a88235d747ba79f6c",
      "ab79029126534f6cbc0ca666a2301e80",
      "cae2ab8a7fcb4eeb9d7ef1a8aedb247d",
      "f5e6ceeb23364029a2615da3f7adead0",
      "5d72db5048f74ab48b1f7cc3c9f127dc",
      "4013fd5153734c7f92a13f06ccad7c7b",
      "d6d1061f43c04c9a85ef220c920e0642",
      "4930258630cf48bfaed88a640deaaa05",
      "213d45aed48d458e8e1ae7a681e58d9f",
      "e3f96b1710bc4912972ca10d91442229",
      "e114c89668d74d849677d4aa62ee2a1b",
      "c1c8c78fccd44a70995363ac591de087",
      "51230cbe706d4c2eb4a6c041162bbebc",
      "e2ae422c950346feb17f7fdb34ee51c7",
      "d2d78831a4764828897f82e6e74614b1",
      "5b9af33cc6a24296b45442dd2ffe0677",
      "eaa0069e358e41f49807dd49566edc9f",
      "e65b6e2d5a124841a1756d978bb9448e",
      "958957c3dd0a4bad83230f69c1c0a825",
      "d318a2ae8fef464a8c52a9c194f9ff96"
     ]
    },
    "id": "VfSWesSudc6z",
    "outputId": "70d0c71f-dd9c-4bd0-a93d-eb1478c4833b"
   },
   "outputs": [
    {
     "data": {
      "application/vnd.jupyter.widget-view+json": {
       "model_id": "4e9ee7c938eb41b8b8c15c3ded31d566",
       "version_major": 2,
       "version_minor": 0
      },
      "text/plain": [
       "config.json:   0%|          | 0.00/736 [00:00<?, ?B/s]"
      ]
     },
     "metadata": {},
     "output_type": "display_data"
    },
    {
     "data": {
      "application/vnd.jupyter.widget-view+json": {
       "model_id": "e3f96b1710bc4912972ca10d91442229",
       "version_major": 2,
       "version_minor": 0
      },
      "text/plain": [
       "model.safetensors:   0%|          | 0.00/368M [00:00<?, ?B/s]"
      ]
     },
     "metadata": {},
     "output_type": "display_data"
    },
    {
     "name": "stderr",
     "output_type": "stream",
     "text": [
      "Some weights of BeitModel were not initialized from the model checkpoint at microsoft/beit-base-patch16-224-pt22k and are newly initialized: ['beit.pooler.layernorm.bias', 'beit.pooler.layernorm.weight']\n",
      "You should probably TRAIN this model on a down-stream task to be able to use it for predictions and inference.\n",
      "/usr/local/lib/python3.10/dist-packages/torchvision/models/_utils.py:208: UserWarning: The parameter 'pretrained' is deprecated since 0.13 and may be removed in the future, please use 'weights' instead.\n",
      "  warnings.warn(\n",
      "/usr/local/lib/python3.10/dist-packages/torchvision/models/_utils.py:223: UserWarning: Arguments other than a weight enum or `None` for 'weights' are deprecated since 0.13 and may be removed in the future. The current behavior is equivalent to passing `weights=VGG16_Weights.IMAGENET1K_V1`. You can also use `weights=VGG16_Weights.DEFAULT` to get the most up-to-date weights.\n",
      "  warnings.warn(msg)\n",
      "Downloading: \"https://download.pytorch.org/models/vgg16-397923af.pth\" to /root/.cache/torch/hub/checkpoints/vgg16-397923af.pth\n",
      "100%|██████████| 528M/528M [00:07<00:00, 73.9MB/s]\n"
     ]
    }
   ],
   "source": [
    "beit_model = BeitModel.from_pretrained(\"microsoft/beit-base-patch16-224-pt22k\")\n",
    "\n",
    "vgg16 = models.vgg16(pretrained=True)\n",
    "\n",
    "# Freeze Beit parameters\n",
    "for param in beit_model.parameters():\n",
    "    param.requires_grad = False\n",
    "\n",
    "# Freeze VGG16 parameters\n",
    "for param in vgg16.parameters():\n",
    "    param.requires_grad = False"
   ]
  },
  {
   "cell_type": "markdown",
   "metadata": {
    "id": "k6sK97a0Zbqo"
   },
   "source": [
    "Model declaration"
   ]
  },
  {
   "cell_type": "code",
   "execution_count": null,
   "metadata": {
    "colab": {
     "base_uri": "https://localhost:8080/"
    },
    "id": "QwfYFJWv1z1m",
    "outputId": "0fd9d3fd-b9d8-48b4-83c8-7f55b02c0cf3"
   },
   "outputs": [
    {
     "data": {
      "text/plain": [
       "VGG16_Beit(\n",
       "  (vgg16): VGG(\n",
       "    (features): Sequential(\n",
       "      (0): Conv2d(3, 64, kernel_size=(3, 3), stride=(1, 1), padding=(1, 1))\n",
       "      (1): ReLU(inplace=True)\n",
       "      (2): Conv2d(64, 64, kernel_size=(3, 3), stride=(1, 1), padding=(1, 1))\n",
       "      (3): ReLU(inplace=True)\n",
       "      (4): MaxPool2d(kernel_size=2, stride=2, padding=0, dilation=1, ceil_mode=False)\n",
       "      (5): Conv2d(64, 128, kernel_size=(3, 3), stride=(1, 1), padding=(1, 1))\n",
       "      (6): ReLU(inplace=True)\n",
       "      (7): Conv2d(128, 128, kernel_size=(3, 3), stride=(1, 1), padding=(1, 1))\n",
       "      (8): ReLU(inplace=True)\n",
       "      (9): MaxPool2d(kernel_size=2, stride=2, padding=0, dilation=1, ceil_mode=False)\n",
       "      (10): Conv2d(128, 256, kernel_size=(3, 3), stride=(1, 1), padding=(1, 1))\n",
       "      (11): ReLU(inplace=True)\n",
       "      (12): Conv2d(256, 256, kernel_size=(3, 3), stride=(1, 1), padding=(1, 1))\n",
       "      (13): ReLU(inplace=True)\n",
       "      (14): Conv2d(256, 256, kernel_size=(3, 3), stride=(1, 1), padding=(1, 1))\n",
       "      (15): ReLU(inplace=True)\n",
       "      (16): MaxPool2d(kernel_size=2, stride=2, padding=0, dilation=1, ceil_mode=False)\n",
       "      (17): Conv2d(256, 512, kernel_size=(3, 3), stride=(1, 1), padding=(1, 1))\n",
       "      (18): ReLU(inplace=True)\n",
       "      (19): Conv2d(512, 512, kernel_size=(3, 3), stride=(1, 1), padding=(1, 1))\n",
       "      (20): ReLU(inplace=True)\n",
       "      (21): Conv2d(512, 512, kernel_size=(3, 3), stride=(1, 1), padding=(1, 1))\n",
       "      (22): ReLU(inplace=True)\n",
       "      (23): MaxPool2d(kernel_size=2, stride=2, padding=0, dilation=1, ceil_mode=False)\n",
       "      (24): Conv2d(512, 512, kernel_size=(3, 3), stride=(1, 1), padding=(1, 1))\n",
       "      (25): ReLU(inplace=True)\n",
       "      (26): Conv2d(512, 512, kernel_size=(3, 3), stride=(1, 1), padding=(1, 1))\n",
       "      (27): ReLU(inplace=True)\n",
       "      (28): Conv2d(512, 512, kernel_size=(3, 3), stride=(1, 1), padding=(1, 1))\n",
       "      (29): ReLU(inplace=True)\n",
       "      (30): MaxPool2d(kernel_size=2, stride=2, padding=0, dilation=1, ceil_mode=False)\n",
       "    )\n",
       "    (avgpool): AdaptiveAvgPool2d(output_size=(7, 7))\n",
       "    (classifier): Sequential(\n",
       "      (0): Linear(in_features=25088, out_features=4096, bias=True)\n",
       "      (1): ReLU(inplace=True)\n",
       "      (2): Dropout(p=0.5, inplace=False)\n",
       "      (3): Linear(in_features=4096, out_features=4096, bias=True)\n",
       "      (4): ReLU(inplace=True)\n",
       "      (5): Dropout(p=0.5, inplace=False)\n",
       "      (6): Linear(in_features=4096, out_features=1000, bias=True)\n",
       "    )\n",
       "  )\n",
       "  (beit): BeitModel(\n",
       "    (embeddings): BeitEmbeddings(\n",
       "      (patch_embeddings): BeitPatchEmbeddings(\n",
       "        (projection): Conv2d(3, 768, kernel_size=(16, 16), stride=(16, 16))\n",
       "      )\n",
       "      (dropout): Dropout(p=0.0, inplace=False)\n",
       "    )\n",
       "    (encoder): BeitEncoder(\n",
       "      (relative_position_bias): BeitRelativePositionBias()\n",
       "      (layer): ModuleList(\n",
       "        (0): BeitLayer(\n",
       "          (attention): BeitAttention(\n",
       "            (attention): BeitSelfAttention(\n",
       "              (query): Linear(in_features=768, out_features=768, bias=True)\n",
       "              (key): Linear(in_features=768, out_features=768, bias=False)\n",
       "              (value): Linear(in_features=768, out_features=768, bias=True)\n",
       "              (dropout): Dropout(p=0.0, inplace=False)\n",
       "            )\n",
       "            (output): BeitSelfOutput(\n",
       "              (dense): Linear(in_features=768, out_features=768, bias=True)\n",
       "              (dropout): Dropout(p=0.0, inplace=False)\n",
       "            )\n",
       "          )\n",
       "          (intermediate): BeitIntermediate(\n",
       "            (dense): Linear(in_features=768, out_features=3072, bias=True)\n",
       "            (intermediate_act_fn): GELUActivation()\n",
       "          )\n",
       "          (output): BeitOutput(\n",
       "            (dense): Linear(in_features=3072, out_features=768, bias=True)\n",
       "            (dropout): Dropout(p=0.0, inplace=False)\n",
       "          )\n",
       "          (layernorm_before): LayerNorm((768,), eps=1e-12, elementwise_affine=True)\n",
       "          (drop_path): Identity()\n",
       "          (layernorm_after): LayerNorm((768,), eps=1e-12, elementwise_affine=True)\n",
       "        )\n",
       "        (1): BeitLayer(\n",
       "          (attention): BeitAttention(\n",
       "            (attention): BeitSelfAttention(\n",
       "              (query): Linear(in_features=768, out_features=768, bias=True)\n",
       "              (key): Linear(in_features=768, out_features=768, bias=False)\n",
       "              (value): Linear(in_features=768, out_features=768, bias=True)\n",
       "              (dropout): Dropout(p=0.0, inplace=False)\n",
       "            )\n",
       "            (output): BeitSelfOutput(\n",
       "              (dense): Linear(in_features=768, out_features=768, bias=True)\n",
       "              (dropout): Dropout(p=0.0, inplace=False)\n",
       "            )\n",
       "          )\n",
       "          (intermediate): BeitIntermediate(\n",
       "            (dense): Linear(in_features=768, out_features=3072, bias=True)\n",
       "            (intermediate_act_fn): GELUActivation()\n",
       "          )\n",
       "          (output): BeitOutput(\n",
       "            (dense): Linear(in_features=3072, out_features=768, bias=True)\n",
       "            (dropout): Dropout(p=0.0, inplace=False)\n",
       "          )\n",
       "          (layernorm_before): LayerNorm((768,), eps=1e-12, elementwise_affine=True)\n",
       "          (drop_path): BeitDropPath(p=0.00909090880304575)\n",
       "          (layernorm_after): LayerNorm((768,), eps=1e-12, elementwise_affine=True)\n",
       "        )\n",
       "        (2): BeitLayer(\n",
       "          (attention): BeitAttention(\n",
       "            (attention): BeitSelfAttention(\n",
       "              (query): Linear(in_features=768, out_features=768, bias=True)\n",
       "              (key): Linear(in_features=768, out_features=768, bias=False)\n",
       "              (value): Linear(in_features=768, out_features=768, bias=True)\n",
       "              (dropout): Dropout(p=0.0, inplace=False)\n",
       "            )\n",
       "            (output): BeitSelfOutput(\n",
       "              (dense): Linear(in_features=768, out_features=768, bias=True)\n",
       "              (dropout): Dropout(p=0.0, inplace=False)\n",
       "            )\n",
       "          )\n",
       "          (intermediate): BeitIntermediate(\n",
       "            (dense): Linear(in_features=768, out_features=3072, bias=True)\n",
       "            (intermediate_act_fn): GELUActivation()\n",
       "          )\n",
       "          (output): BeitOutput(\n",
       "            (dense): Linear(in_features=3072, out_features=768, bias=True)\n",
       "            (dropout): Dropout(p=0.0, inplace=False)\n",
       "          )\n",
       "          (layernorm_before): LayerNorm((768,), eps=1e-12, elementwise_affine=True)\n",
       "          (drop_path): BeitDropPath(p=0.0181818176060915)\n",
       "          (layernorm_after): LayerNorm((768,), eps=1e-12, elementwise_affine=True)\n",
       "        )\n",
       "        (3): BeitLayer(\n",
       "          (attention): BeitAttention(\n",
       "            (attention): BeitSelfAttention(\n",
       "              (query): Linear(in_features=768, out_features=768, bias=True)\n",
       "              (key): Linear(in_features=768, out_features=768, bias=False)\n",
       "              (value): Linear(in_features=768, out_features=768, bias=True)\n",
       "              (dropout): Dropout(p=0.0, inplace=False)\n",
       "            )\n",
       "            (output): BeitSelfOutput(\n",
       "              (dense): Linear(in_features=768, out_features=768, bias=True)\n",
       "              (dropout): Dropout(p=0.0, inplace=False)\n",
       "            )\n",
       "          )\n",
       "          (intermediate): BeitIntermediate(\n",
       "            (dense): Linear(in_features=768, out_features=3072, bias=True)\n",
       "            (intermediate_act_fn): GELUActivation()\n",
       "          )\n",
       "          (output): BeitOutput(\n",
       "            (dense): Linear(in_features=3072, out_features=768, bias=True)\n",
       "            (dropout): Dropout(p=0.0, inplace=False)\n",
       "          )\n",
       "          (layernorm_before): LayerNorm((768,), eps=1e-12, elementwise_affine=True)\n",
       "          (drop_path): BeitDropPath(p=0.027272727340459824)\n",
       "          (layernorm_after): LayerNorm((768,), eps=1e-12, elementwise_affine=True)\n",
       "        )\n",
       "        (4): BeitLayer(\n",
       "          (attention): BeitAttention(\n",
       "            (attention): BeitSelfAttention(\n",
       "              (query): Linear(in_features=768, out_features=768, bias=True)\n",
       "              (key): Linear(in_features=768, out_features=768, bias=False)\n",
       "              (value): Linear(in_features=768, out_features=768, bias=True)\n",
       "              (dropout): Dropout(p=0.0, inplace=False)\n",
       "            )\n",
       "            (output): BeitSelfOutput(\n",
       "              (dense): Linear(in_features=768, out_features=768, bias=True)\n",
       "              (dropout): Dropout(p=0.0, inplace=False)\n",
       "            )\n",
       "          )\n",
       "          (intermediate): BeitIntermediate(\n",
       "            (dense): Linear(in_features=768, out_features=3072, bias=True)\n",
       "            (intermediate_act_fn): GELUActivation()\n",
       "          )\n",
       "          (output): BeitOutput(\n",
       "            (dense): Linear(in_features=3072, out_features=768, bias=True)\n",
       "            (dropout): Dropout(p=0.0, inplace=False)\n",
       "          )\n",
       "          (layernorm_before): LayerNorm((768,), eps=1e-12, elementwise_affine=True)\n",
       "          (drop_path): BeitDropPath(p=0.036363635212183)\n",
       "          (layernorm_after): LayerNorm((768,), eps=1e-12, elementwise_affine=True)\n",
       "        )\n",
       "        (5): BeitLayer(\n",
       "          (attention): BeitAttention(\n",
       "            (attention): BeitSelfAttention(\n",
       "              (query): Linear(in_features=768, out_features=768, bias=True)\n",
       "              (key): Linear(in_features=768, out_features=768, bias=False)\n",
       "              (value): Linear(in_features=768, out_features=768, bias=True)\n",
       "              (dropout): Dropout(p=0.0, inplace=False)\n",
       "            )\n",
       "            (output): BeitSelfOutput(\n",
       "              (dense): Linear(in_features=768, out_features=768, bias=True)\n",
       "              (dropout): Dropout(p=0.0, inplace=False)\n",
       "            )\n",
       "          )\n",
       "          (intermediate): BeitIntermediate(\n",
       "            (dense): Linear(in_features=768, out_features=3072, bias=True)\n",
       "            (intermediate_act_fn): GELUActivation()\n",
       "          )\n",
       "          (output): BeitOutput(\n",
       "            (dense): Linear(in_features=3072, out_features=768, bias=True)\n",
       "            (dropout): Dropout(p=0.0, inplace=False)\n",
       "          )\n",
       "          (layernorm_before): LayerNorm((768,), eps=1e-12, elementwise_affine=True)\n",
       "          (drop_path): BeitDropPath(p=0.045454543083906174)\n",
       "          (layernorm_after): LayerNorm((768,), eps=1e-12, elementwise_affine=True)\n",
       "        )\n",
       "        (6): BeitLayer(\n",
       "          (attention): BeitAttention(\n",
       "            (attention): BeitSelfAttention(\n",
       "              (query): Linear(in_features=768, out_features=768, bias=True)\n",
       "              (key): Linear(in_features=768, out_features=768, bias=False)\n",
       "              (value): Linear(in_features=768, out_features=768, bias=True)\n",
       "              (dropout): Dropout(p=0.0, inplace=False)\n",
       "            )\n",
       "            (output): BeitSelfOutput(\n",
       "              (dense): Linear(in_features=768, out_features=768, bias=True)\n",
       "              (dropout): Dropout(p=0.0, inplace=False)\n",
       "            )\n",
       "          )\n",
       "          (intermediate): BeitIntermediate(\n",
       "            (dense): Linear(in_features=768, out_features=3072, bias=True)\n",
       "            (intermediate_act_fn): GELUActivation()\n",
       "          )\n",
       "          (output): BeitOutput(\n",
       "            (dense): Linear(in_features=3072, out_features=768, bias=True)\n",
       "            (dropout): Dropout(p=0.0, inplace=False)\n",
       "          )\n",
       "          (layernorm_before): LayerNorm((768,), eps=1e-12, elementwise_affine=True)\n",
       "          (drop_path): BeitDropPath(p=0.054545458406209946)\n",
       "          (layernorm_after): LayerNorm((768,), eps=1e-12, elementwise_affine=True)\n",
       "        )\n",
       "        (7): BeitLayer(\n",
       "          (attention): BeitAttention(\n",
       "            (attention): BeitSelfAttention(\n",
       "              (query): Linear(in_features=768, out_features=768, bias=True)\n",
       "              (key): Linear(in_features=768, out_features=768, bias=False)\n",
       "              (value): Linear(in_features=768, out_features=768, bias=True)\n",
       "              (dropout): Dropout(p=0.0, inplace=False)\n",
       "            )\n",
       "            (output): BeitSelfOutput(\n",
       "              (dense): Linear(in_features=768, out_features=768, bias=True)\n",
       "              (dropout): Dropout(p=0.0, inplace=False)\n",
       "            )\n",
       "          )\n",
       "          (intermediate): BeitIntermediate(\n",
       "            (dense): Linear(in_features=768, out_features=3072, bias=True)\n",
       "            (intermediate_act_fn): GELUActivation()\n",
       "          )\n",
       "          (output): BeitOutput(\n",
       "            (dense): Linear(in_features=3072, out_features=768, bias=True)\n",
       "            (dropout): Dropout(p=0.0, inplace=False)\n",
       "          )\n",
       "          (layernorm_before): LayerNorm((768,), eps=1e-12, elementwise_affine=True)\n",
       "          (drop_path): BeitDropPath(p=0.06363636255264282)\n",
       "          (layernorm_after): LayerNorm((768,), eps=1e-12, elementwise_affine=True)\n",
       "        )\n",
       "        (8): BeitLayer(\n",
       "          (attention): BeitAttention(\n",
       "            (attention): BeitSelfAttention(\n",
       "              (query): Linear(in_features=768, out_features=768, bias=True)\n",
       "              (key): Linear(in_features=768, out_features=768, bias=False)\n",
       "              (value): Linear(in_features=768, out_features=768, bias=True)\n",
       "              (dropout): Dropout(p=0.0, inplace=False)\n",
       "            )\n",
       "            (output): BeitSelfOutput(\n",
       "              (dense): Linear(in_features=768, out_features=768, bias=True)\n",
       "              (dropout): Dropout(p=0.0, inplace=False)\n",
       "            )\n",
       "          )\n",
       "          (intermediate): BeitIntermediate(\n",
       "            (dense): Linear(in_features=768, out_features=3072, bias=True)\n",
       "            (intermediate_act_fn): GELUActivation()\n",
       "          )\n",
       "          (output): BeitOutput(\n",
       "            (dense): Linear(in_features=3072, out_features=768, bias=True)\n",
       "            (dropout): Dropout(p=0.0, inplace=False)\n",
       "          )\n",
       "          (layernorm_before): LayerNorm((768,), eps=1e-12, elementwise_affine=True)\n",
       "          (drop_path): BeitDropPath(p=0.0727272778749466)\n",
       "          (layernorm_after): LayerNorm((768,), eps=1e-12, elementwise_affine=True)\n",
       "        )\n",
       "        (9): BeitLayer(\n",
       "          (attention): BeitAttention(\n",
       "            (attention): BeitSelfAttention(\n",
       "              (query): Linear(in_features=768, out_features=768, bias=True)\n",
       "              (key): Linear(in_features=768, out_features=768, bias=False)\n",
       "              (value): Linear(in_features=768, out_features=768, bias=True)\n",
       "              (dropout): Dropout(p=0.0, inplace=False)\n",
       "            )\n",
       "            (output): BeitSelfOutput(\n",
       "              (dense): Linear(in_features=768, out_features=768, bias=True)\n",
       "              (dropout): Dropout(p=0.0, inplace=False)\n",
       "            )\n",
       "          )\n",
       "          (intermediate): BeitIntermediate(\n",
       "            (dense): Linear(in_features=768, out_features=3072, bias=True)\n",
       "            (intermediate_act_fn): GELUActivation()\n",
       "          )\n",
       "          (output): BeitOutput(\n",
       "            (dense): Linear(in_features=3072, out_features=768, bias=True)\n",
       "            (dropout): Dropout(p=0.0, inplace=False)\n",
       "          )\n",
       "          (layernorm_before): LayerNorm((768,), eps=1e-12, elementwise_affine=True)\n",
       "          (drop_path): BeitDropPath(p=0.08181818574666977)\n",
       "          (layernorm_after): LayerNorm((768,), eps=1e-12, elementwise_affine=True)\n",
       "        )\n",
       "        (10): BeitLayer(\n",
       "          (attention): BeitAttention(\n",
       "            (attention): BeitSelfAttention(\n",
       "              (query): Linear(in_features=768, out_features=768, bias=True)\n",
       "              (key): Linear(in_features=768, out_features=768, bias=False)\n",
       "              (value): Linear(in_features=768, out_features=768, bias=True)\n",
       "              (dropout): Dropout(p=0.0, inplace=False)\n",
       "            )\n",
       "            (output): BeitSelfOutput(\n",
       "              (dense): Linear(in_features=768, out_features=768, bias=True)\n",
       "              (dropout): Dropout(p=0.0, inplace=False)\n",
       "            )\n",
       "          )\n",
       "          (intermediate): BeitIntermediate(\n",
       "            (dense): Linear(in_features=768, out_features=3072, bias=True)\n",
       "            (intermediate_act_fn): GELUActivation()\n",
       "          )\n",
       "          (output): BeitOutput(\n",
       "            (dense): Linear(in_features=3072, out_features=768, bias=True)\n",
       "            (dropout): Dropout(p=0.0, inplace=False)\n",
       "          )\n",
       "          (layernorm_before): LayerNorm((768,), eps=1e-12, elementwise_affine=True)\n",
       "          (drop_path): BeitDropPath(p=0.09090909361839294)\n",
       "          (layernorm_after): LayerNorm((768,), eps=1e-12, elementwise_affine=True)\n",
       "        )\n",
       "        (11): BeitLayer(\n",
       "          (attention): BeitAttention(\n",
       "            (attention): BeitSelfAttention(\n",
       "              (query): Linear(in_features=768, out_features=768, bias=True)\n",
       "              (key): Linear(in_features=768, out_features=768, bias=False)\n",
       "              (value): Linear(in_features=768, out_features=768, bias=True)\n",
       "              (dropout): Dropout(p=0.0, inplace=False)\n",
       "            )\n",
       "            (output): BeitSelfOutput(\n",
       "              (dense): Linear(in_features=768, out_features=768, bias=True)\n",
       "              (dropout): Dropout(p=0.0, inplace=False)\n",
       "            )\n",
       "          )\n",
       "          (intermediate): BeitIntermediate(\n",
       "            (dense): Linear(in_features=768, out_features=3072, bias=True)\n",
       "            (intermediate_act_fn): GELUActivation()\n",
       "          )\n",
       "          (output): BeitOutput(\n",
       "            (dense): Linear(in_features=3072, out_features=768, bias=True)\n",
       "            (dropout): Dropout(p=0.0, inplace=False)\n",
       "          )\n",
       "          (layernorm_before): LayerNorm((768,), eps=1e-12, elementwise_affine=True)\n",
       "          (drop_path): BeitDropPath(p=0.10000000149011612)\n",
       "          (layernorm_after): LayerNorm((768,), eps=1e-12, elementwise_affine=True)\n",
       "        )\n",
       "      )\n",
       "    )\n",
       "    (layernorm): Identity()\n",
       "    (pooler): BeitPooler(\n",
       "      (layernorm): LayerNorm((768,), eps=1e-12, elementwise_affine=True)\n",
       "    )\n",
       "  )\n",
       "  (fc1): Linear(in_features=1768, out_features=256, bias=True)\n",
       "  (fc2): Linear(in_features=256, out_features=2, bias=True)\n",
       "  (softmax): Softmax(dim=1)\n",
       ")"
      ]
     },
     "execution_count": 12,
     "metadata": {},
     "output_type": "execute_result"
    }
   ],
   "source": [
    "vgg16_beit_model = VGG16_Beit(vgg16, beit_model)\n",
    "vgg16_beit_model.to(device)"
   ]
  },
  {
   "cell_type": "markdown",
   "metadata": {
    "id": "BYjr4NYfbnJI"
   },
   "source": [
    "##Trainer Class"
   ]
  },
  {
   "cell_type": "code",
   "execution_count": null,
   "metadata": {
    "id": "DN5V4jlPgqLf"
   },
   "outputs": [],
   "source": [
    "class Trainer():\n",
    "    \"\"\"Utility class to train and evaluate a model.\"\"\"\n",
    "\n",
    "    def __init__(\n",
    "        self,\n",
    "        model: nn.Module,\n",
    "        optimizer: torch.optim.Optimizer,\n",
    "        log_steps: int = 1_000,\n",
    "        log_level: int = 2\n",
    "    ):\n",
    "        self.model = model\n",
    "        self.optimizer = optimizer\n",
    "        self.loss_function = nn.CrossEntropyLoss() # loss function good for classification tasks\n",
    "\n",
    "        self.log_steps = log_steps\n",
    "        self.log_level = log_level\n",
    "\n",
    "    def train(\n",
    "        self,\n",
    "        train_dataloader: DataLoader,\n",
    "        valid_dataloader: DataLoader,\n",
    "        epochs: int = 1\n",
    "    ) -> dict[str, list[float]]:\n",
    "        \"\"\"\n",
    "        Args:\n",
    "            train_dataloader: a DataLoader instance containing the training instances.\n",
    "            valid_dataloader: a DataLoader instance used to evaluate learning progress.\n",
    "            epochs: the number of times to iterate over train_dataset.\n",
    "\n",
    "        Returns:\n",
    "            avg_train_loss: the average training loss on train_dataset over epochs.\n",
    "        \"\"\"\n",
    "        assert epochs >= 1 and isinstance(epochs, int)\n",
    "        if self.log_level > 0:\n",
    "            print('Training ...')\n",
    "        train_loss = 0.0\n",
    "\n",
    "        losses = {\n",
    "            \"train_losses\": [],\n",
    "            \"valid_losses\": [],\n",
    "            \"valid_acc\": [],\n",
    "        }\n",
    "\n",
    "        for epoch in range(1, epochs + 1):\n",
    "            if self.log_level > 0:\n",
    "                print(' Epoch {:2d}'.format(epoch))\n",
    "\n",
    "            epoch_loss = 0.0\n",
    "            self.model.train()\n",
    "\n",
    "\n",
    "            # for each batch\n",
    "            for step, batch in enumerate(train_dataloader):\n",
    "\n",
    "                vgg16_images = batch['vgg16_images']\n",
    "                beit_images = batch['beit_images']\n",
    "                labels = batch['labels']\n",
    "\n",
    "                #data to device\n",
    "                vgg16_images = vgg16_images.to(device)\n",
    "                beit_images = beit_images.to(device)\n",
    "                labels = labels.to(device)\n",
    "\n",
    "                self.optimizer.zero_grad()\n",
    "\n",
    "                # We get the predicted logits from the model\n",
    "                predictions = self.model(vgg16_images, beit_images)\n",
    "\n",
    "                # The CrossEntropyLoss expects the predictions to be logits, i.e. non-softmaxed scores across\n",
    "                # the number of classes, and the labels to be a simple tensor of labels.\n",
    "                sample_loss = self.loss_function(predictions, labels)\n",
    "                sample_loss.backward()\n",
    "                self.optimizer.step()\n",
    "\n",
    "                epoch_loss += sample_loss.cpu().tolist()\n",
    "\n",
    "                if self.log_level > 1 and (step % self.log_steps) == (self.log_steps - 1):\n",
    "                    print('\\t[E: {:2d} @ step {}] current avg loss = {:0.4f}'.format(epoch, step, epoch_loss / (step + 1)))\n",
    "\n",
    "            avg_epoch_loss = epoch_loss / len(train_dataloader)\n",
    "\n",
    "            if self.log_level > 0:\n",
    "                print('\\t[E: {:2d}] train loss = {:0.4f}'.format(epoch, avg_epoch_loss))\n",
    "\n",
    "            valid_loss, valid_acc = self.evaluate(valid_dataloader)\n",
    "\n",
    "            losses[\"train_losses\"].append(avg_epoch_loss)\n",
    "            losses[\"valid_losses\"].append(valid_loss)\n",
    "            losses[\"valid_acc\"].append(valid_acc)\n",
    "\n",
    "            if self.log_level > 0:\n",
    "                print('  [E: {:2d}] valid loss = {:0.4f}, valid acc = {:0.4f}'.format(epoch, valid_loss, valid_acc))\n",
    "\n",
    "        if self.log_level > 0:\n",
    "            print('... Done!')\n",
    "\n",
    "        return losses\n",
    "\n",
    "\n",
    "    def _compute_acc(self, logits: torch.Tensor, labels: torch.Tensor) -> float:\n",
    "        # logits [B, 2] are the logits outputted by the model's forward()\n",
    "        # We take the argmax along the second dimension (dim=1), so we get a tensor of shape [B]\n",
    "        # where each element is 0 if the 0-class had higher logit, 1 otherwise.\n",
    "        predictions = torch.argmax(logits, dim=1)\n",
    "        # We can then directly compare each prediction with the labels, as they are both tensors with shape [B].\n",
    "        # The average of the boolean equality checks between the two is the accuracy of these predictions.\n",
    "        # For example, if:\n",
    "        #   predictions = [1, 0, 0, 1, 1]\n",
    "        #   labels = [1, 0, 1, 1, 1]\n",
    "        # The comparison is:\n",
    "        #   (predictions == labels) => [1, 1, 0, 1, 1]\n",
    "        return torch.mean((predictions == labels).float()).tolist() # type: ignore\n",
    "\n",
    "    def evaluate(self, valid_dataloader: DataLoader) -> tuple[float, float]:\n",
    "        \"\"\"\n",
    "        Args:\n",
    "            valid_dataloader: the DataLoader to use to evaluate the model.\n",
    "\n",
    "        Returns:\n",
    "            avg_valid_loss: the average validation loss over valid_dataloader.\n",
    "        \"\"\"\n",
    "        valid_loss = 0.0\n",
    "        valid_acc = 0.0\n",
    "        # When running in inference mode, it is required to have model.eval() AND .no_grad()\n",
    "        self.model.eval()\n",
    "        with torch.no_grad():\n",
    "            for step, batch in enumerate(valid_dataloader):\n",
    "\n",
    "                vgg16_images = batch['vgg16_images']\n",
    "                beit_images = batch['beit_images']\n",
    "                labels = batch['labels']\n",
    "\n",
    "                #data to device\n",
    "                vgg16_images = vgg16_images.to(device)\n",
    "                beit_images = beit_images.to(device)\n",
    "                labels = labels.to(device)\n",
    "\n",
    "                logits = self.model(vgg16_images, beit_images)\n",
    "\n",
    "                # Same considerations as the training step apply here\n",
    "                sample_loss = self.loss_function(logits, labels)\n",
    "                valid_loss += sample_loss.tolist()\n",
    "\n",
    "                sample_acc = self._compute_acc(logits, labels)\n",
    "                valid_acc += sample_acc\n",
    "\n",
    "        return valid_loss / len(valid_dataloader), valid_acc / len(valid_dataloader),\n",
    "\n",
    "    def predict(self, batch: tuple[torch.Tensor, torch.Tensor]) -> tuple[torch.Tensor, torch.Tensor]:\n",
    "        \"\"\"\n",
    "        Args:\n",
    "            x: a tensor of indices\n",
    "        Returns:\n",
    "            A tuple composed of:\n",
    "            - the logits of each class, 0 and 1\n",
    "            - the prediction for each sample in the batch\n",
    "              0 if the 0-class had higher logit, 1 otherwise\n",
    "        \"\"\"\n",
    "        self.model.eval()\n",
    "        with torch.no_grad():\n",
    "            inputs, labels = batch.values()\n",
    "\n",
    "            #data to device\n",
    "            inputs = inputs.to(device)\n",
    "\n",
    "            logits = self.model(inputs) # [B, 2]\n",
    "            predictions = torch.argmax(logits, -1) # [B, 1] computed on the last dimension of the logits tensor\n",
    "            return logits, predictions"
   ]
  },
  {
   "cell_type": "markdown",
   "metadata": {
    "id": "nDu5UsXdaVzA"
   },
   "source": [
    "Trainer definition with Adam optimizer, learning rate of 10e-4 and regularization because the training set is relatively small"
   ]
  },
  {
   "cell_type": "code",
   "execution_count": null,
   "metadata": {
    "id": "hQvjGEVe4Jw8"
   },
   "outputs": [],
   "source": [
    "trainer = Trainer(model=vgg16_beit_model,\n",
    "                  optimizer=optim.Adam(vgg16_beit_model.parameters(), lr=0.0001, weight_decay=1e-4))"
   ]
  },
  {
   "cell_type": "markdown",
   "metadata": {
    "id": "gWwPIgmdauVt"
   },
   "source": [
    "Let's train..."
   ]
  },
  {
   "cell_type": "code",
   "execution_count": null,
   "metadata": {
    "colab": {
     "base_uri": "https://localhost:8080/"
    },
    "id": "Tjl-FH3TrEKD",
    "outputId": "84a5d5d0-2a37-41d8-e643-6ce1849ec323"
   },
   "outputs": [
    {
     "name": "stdout",
     "output_type": "stream",
     "text": [
      "Training ...\n",
      " Epoch  1\n"
     ]
    },
    {
     "name": "stderr",
     "output_type": "stream",
     "text": [
      "/usr/lib/python3.10/multiprocessing/popen_fork.py:66: RuntimeWarning: os.fork() was called. os.fork() is incompatible with multithreaded code, and JAX is multithreaded, so this will likely lead to a deadlock.\n",
      "  self.pid = os.fork()\n"
     ]
    },
    {
     "name": "stdout",
     "output_type": "stream",
     "text": [
      "\t[E:  1] train loss = 0.5023\n",
      "  [E:  1] valid loss = 0.4240, valid acc = 0.8206\n",
      " Epoch  2\n",
      "\t[E:  2] train loss = 0.4040\n",
      "  [E:  2] valid loss = 0.3993, valid acc = 0.8221\n",
      " Epoch  3\n",
      "\t[E:  3] train loss = 0.3383\n",
      "  [E:  3] valid loss = 0.3194, valid acc = 0.8808\n",
      " Epoch  4\n",
      "\t[E:  4] train loss = 0.3172\n",
      "  [E:  4] valid loss = 0.2916, valid acc = 0.8884\n",
      " Epoch  5\n",
      "\t[E:  5] train loss = 0.2935\n",
      "  [E:  5] valid loss = 0.2903, valid acc = 0.8878\n",
      " Epoch  6\n",
      "\t[E:  6] train loss = 0.2678\n",
      "  [E:  6] valid loss = 0.2522, valid acc = 0.9044\n",
      "... Done!\n"
     ]
    },
    {
     "data": {
      "text/plain": [
       "{'train_losses': [0.5022520922282909,\n",
       "  0.4040441314907784,\n",
       "  0.3383494167727359,\n",
       "  0.31717966330495284,\n",
       "  0.29347575717466945,\n",
       "  0.2678295927161866],\n",
       " 'valid_losses': [0.4239998929044034,\n",
       "  0.39933439962407374,\n",
       "  0.31943786207665786,\n",
       "  0.291641207768562,\n",
       "  0.2903326882960949,\n",
       "  0.2522124895390044],\n",
       " 'valid_acc': [0.8205737091125326,\n",
       "  0.8221409587149925,\n",
       "  0.8808415658930515,\n",
       "  0.8884403502687495,\n",
       "  0.8878229488717749,\n",
       "  0.9044452892973068]}"
      ]
     },
     "execution_count": 15,
     "metadata": {},
     "output_type": "execute_result"
    }
   ],
   "source": [
    "trainer.train(training_dataloader, validation_dataloader, epochs=6)"
   ]
  },
  {
   "cell_type": "markdown",
   "metadata": {
    "id": "3YZvYLcQaxJ7"
   },
   "source": [
    "Save the model to google drive"
   ]
  },
  {
   "cell_type": "code",
   "execution_count": null,
   "metadata": {
    "id": "8e03ZwaArNV2"
   },
   "outputs": [],
   "source": [
    "model_save_name = 'classifier0609242212.pt'\n",
    "path = F\"/content/drive/My Drive/{model_save_name}\"\n",
    "torch.save(vgg16_beit_model, path)"
   ]
  },
  {
   "cell_type": "code",
   "execution_count": null,
   "metadata": {
    "id": "NZXbrkar19aA"
   },
   "outputs": [],
   "source": []
  }
 ],
 "metadata": {
  "accelerator": "GPU",
  "colab": {
   "gpuType": "T4",
   "provenance": []
  },
  "kernelspec": {
   "display_name": "Python 3 (ipykernel)",
   "language": "python",
   "name": "python3"
  },
  "language_info": {
   "codemirror_mode": {
    "name": "ipython",
    "version": 3
   },
   "file_extension": ".py",
   "mimetype": "text/x-python",
   "name": "python",
   "nbconvert_exporter": "python",
   "pygments_lexer": "ipython3",
   "version": "3.11.7"
  },
  "widgets": {
   "application/vnd.jupyter.widget-state+json": {
    "0e1ac90dd411406ea62cc28ec6aaddae": {
     "model_module": "@jupyter-widgets/controls",
     "model_module_version": "1.5.0",
     "model_name": "HBoxModel",
     "state": {
      "_dom_classes": [],
      "_model_module": "@jupyter-widgets/controls",
      "_model_module_version": "1.5.0",
      "_model_name": "HBoxModel",
      "_view_count": null,
      "_view_module": "@jupyter-widgets/controls",
      "_view_module_version": "1.5.0",
      "_view_name": "HBoxView",
      "box_style": "",
      "children": [
       "IPY_MODEL_11f9b9b49b654dc7bb68fc1aef547c78",
       "IPY_MODEL_530898ecc2cf4183a7c5579480db6f13",
       "IPY_MODEL_b61ae5cc7892417595356070e50af15a"
      ],
      "layout": "IPY_MODEL_d76283127e854bbdb122aa4ee37d4e63"
     }
    },
    "11f9b9b49b654dc7bb68fc1aef547c78": {
     "model_module": "@jupyter-widgets/controls",
     "model_module_version": "1.5.0",
     "model_name": "HTMLModel",
     "state": {
      "_dom_classes": [],
      "_model_module": "@jupyter-widgets/controls",
      "_model_module_version": "1.5.0",
      "_model_name": "HTMLModel",
      "_view_count": null,
      "_view_module": "@jupyter-widgets/controls",
      "_view_module_version": "1.5.0",
      "_view_name": "HTMLView",
      "description": "",
      "description_tooltip": null,
      "layout": "IPY_MODEL_450c6bfab2f64a068ac38679a458d78a",
      "placeholder": "​",
      "style": "IPY_MODEL_1be8f499c2d447139b8e1882d90427c0",
      "value": "preprocessor_config.json: 100%"
     }
    },
    "1be8f499c2d447139b8e1882d90427c0": {
     "model_module": "@jupyter-widgets/controls",
     "model_module_version": "1.5.0",
     "model_name": "DescriptionStyleModel",
     "state": {
      "_model_module": "@jupyter-widgets/controls",
      "_model_module_version": "1.5.0",
      "_model_name": "DescriptionStyleModel",
      "_view_count": null,
      "_view_module": "@jupyter-widgets/base",
      "_view_module_version": "1.2.0",
      "_view_name": "StyleView",
      "description_width": ""
     }
    },
    "213d45aed48d458e8e1ae7a681e58d9f": {
     "model_module": "@jupyter-widgets/controls",
     "model_module_version": "1.5.0",
     "model_name": "DescriptionStyleModel",
     "state": {
      "_model_module": "@jupyter-widgets/controls",
      "_model_module_version": "1.5.0",
      "_model_name": "DescriptionStyleModel",
      "_view_count": null,
      "_view_module": "@jupyter-widgets/base",
      "_view_module_version": "1.2.0",
      "_view_name": "StyleView",
      "description_width": ""
     }
    },
    "4013fd5153734c7f92a13f06ccad7c7b": {
     "model_module": "@jupyter-widgets/base",
     "model_module_version": "1.2.0",
     "model_name": "LayoutModel",
     "state": {
      "_model_module": "@jupyter-widgets/base",
      "_model_module_version": "1.2.0",
      "_model_name": "LayoutModel",
      "_view_count": null,
      "_view_module": "@jupyter-widgets/base",
      "_view_module_version": "1.2.0",
      "_view_name": "LayoutView",
      "align_content": null,
      "align_items": null,
      "align_self": null,
      "border": null,
      "bottom": null,
      "display": null,
      "flex": null,
      "flex_flow": null,
      "grid_area": null,
      "grid_auto_columns": null,
      "grid_auto_flow": null,
      "grid_auto_rows": null,
      "grid_column": null,
      "grid_gap": null,
      "grid_row": null,
      "grid_template_areas": null,
      "grid_template_columns": null,
      "grid_template_rows": null,
      "height": null,
      "justify_content": null,
      "justify_items": null,
      "left": null,
      "margin": null,
      "max_height": null,
      "max_width": null,
      "min_height": null,
      "min_width": null,
      "object_fit": null,
      "object_position": null,
      "order": null,
      "overflow": null,
      "overflow_x": null,
      "overflow_y": null,
      "padding": null,
      "right": null,
      "top": null,
      "visibility": null,
      "width": null
     }
    },
    "450c6bfab2f64a068ac38679a458d78a": {
     "model_module": "@jupyter-widgets/base",
     "model_module_version": "1.2.0",
     "model_name": "LayoutModel",
     "state": {
      "_model_module": "@jupyter-widgets/base",
      "_model_module_version": "1.2.0",
      "_model_name": "LayoutModel",
      "_view_count": null,
      "_view_module": "@jupyter-widgets/base",
      "_view_module_version": "1.2.0",
      "_view_name": "LayoutView",
      "align_content": null,
      "align_items": null,
      "align_self": null,
      "border": null,
      "bottom": null,
      "display": null,
      "flex": null,
      "flex_flow": null,
      "grid_area": null,
      "grid_auto_columns": null,
      "grid_auto_flow": null,
      "grid_auto_rows": null,
      "grid_column": null,
      "grid_gap": null,
      "grid_row": null,
      "grid_template_areas": null,
      "grid_template_columns": null,
      "grid_template_rows": null,
      "height": null,
      "justify_content": null,
      "justify_items": null,
      "left": null,
      "margin": null,
      "max_height": null,
      "max_width": null,
      "min_height": null,
      "min_width": null,
      "object_fit": null,
      "object_position": null,
      "order": null,
      "overflow": null,
      "overflow_x": null,
      "overflow_y": null,
      "padding": null,
      "right": null,
      "top": null,
      "visibility": null,
      "width": null
     }
    },
    "48d62a5010ac4a0b810f77686d657d34": {
     "model_module": "@jupyter-widgets/controls",
     "model_module_version": "1.5.0",
     "model_name": "ProgressStyleModel",
     "state": {
      "_model_module": "@jupyter-widgets/controls",
      "_model_module_version": "1.5.0",
      "_model_name": "ProgressStyleModel",
      "_view_count": null,
      "_view_module": "@jupyter-widgets/base",
      "_view_module_version": "1.2.0",
      "_view_name": "StyleView",
      "bar_color": null,
      "description_width": ""
     }
    },
    "4930258630cf48bfaed88a640deaaa05": {
     "model_module": "@jupyter-widgets/base",
     "model_module_version": "1.2.0",
     "model_name": "LayoutModel",
     "state": {
      "_model_module": "@jupyter-widgets/base",
      "_model_module_version": "1.2.0",
      "_model_name": "LayoutModel",
      "_view_count": null,
      "_view_module": "@jupyter-widgets/base",
      "_view_module_version": "1.2.0",
      "_view_name": "LayoutView",
      "align_content": null,
      "align_items": null,
      "align_self": null,
      "border": null,
      "bottom": null,
      "display": null,
      "flex": null,
      "flex_flow": null,
      "grid_area": null,
      "grid_auto_columns": null,
      "grid_auto_flow": null,
      "grid_auto_rows": null,
      "grid_column": null,
      "grid_gap": null,
      "grid_row": null,
      "grid_template_areas": null,
      "grid_template_columns": null,
      "grid_template_rows": null,
      "height": null,
      "justify_content": null,
      "justify_items": null,
      "left": null,
      "margin": null,
      "max_height": null,
      "max_width": null,
      "min_height": null,
      "min_width": null,
      "object_fit": null,
      "object_position": null,
      "order": null,
      "overflow": null,
      "overflow_x": null,
      "overflow_y": null,
      "padding": null,
      "right": null,
      "top": null,
      "visibility": null,
      "width": null
     }
    },
    "4e9ee7c938eb41b8b8c15c3ded31d566": {
     "model_module": "@jupyter-widgets/controls",
     "model_module_version": "1.5.0",
     "model_name": "HBoxModel",
     "state": {
      "_dom_classes": [],
      "_model_module": "@jupyter-widgets/controls",
      "_model_module_version": "1.5.0",
      "_model_name": "HBoxModel",
      "_view_count": null,
      "_view_module": "@jupyter-widgets/controls",
      "_view_module_version": "1.5.0",
      "_view_name": "HBoxView",
      "box_style": "",
      "children": [
       "IPY_MODEL_abad913159814e94b35ec5ae13b9e710",
       "IPY_MODEL_cb687750b841437a88235d747ba79f6c",
       "IPY_MODEL_ab79029126534f6cbc0ca666a2301e80"
      ],
      "layout": "IPY_MODEL_cae2ab8a7fcb4eeb9d7ef1a8aedb247d"
     }
    },
    "51230cbe706d4c2eb4a6c041162bbebc": {
     "model_module": "@jupyter-widgets/controls",
     "model_module_version": "1.5.0",
     "model_name": "HTMLModel",
     "state": {
      "_dom_classes": [],
      "_model_module": "@jupyter-widgets/controls",
      "_model_module_version": "1.5.0",
      "_model_name": "HTMLModel",
      "_view_count": null,
      "_view_module": "@jupyter-widgets/controls",
      "_view_module_version": "1.5.0",
      "_view_name": "HTMLView",
      "description": "",
      "description_tooltip": null,
      "layout": "IPY_MODEL_958957c3dd0a4bad83230f69c1c0a825",
      "placeholder": "​",
      "style": "IPY_MODEL_d318a2ae8fef464a8c52a9c194f9ff96",
      "value": " 368M/368M [00:03&lt;00:00, 136MB/s]"
     }
    },
    "530898ecc2cf4183a7c5579480db6f13": {
     "model_module": "@jupyter-widgets/controls",
     "model_module_version": "1.5.0",
     "model_name": "FloatProgressModel",
     "state": {
      "_dom_classes": [],
      "_model_module": "@jupyter-widgets/controls",
      "_model_module_version": "1.5.0",
      "_model_name": "FloatProgressModel",
      "_view_count": null,
      "_view_module": "@jupyter-widgets/controls",
      "_view_module_version": "1.5.0",
      "_view_name": "ProgressView",
      "bar_style": "success",
      "description": "",
      "description_tooltip": null,
      "layout": "IPY_MODEL_96ea05fe49ea4fd9af2d1f402559ba29",
      "max": 276,
      "min": 0,
      "orientation": "horizontal",
      "style": "IPY_MODEL_48d62a5010ac4a0b810f77686d657d34",
      "value": 276
     }
    },
    "5b9af33cc6a24296b45442dd2ffe0677": {
     "model_module": "@jupyter-widgets/controls",
     "model_module_version": "1.5.0",
     "model_name": "DescriptionStyleModel",
     "state": {
      "_model_module": "@jupyter-widgets/controls",
      "_model_module_version": "1.5.0",
      "_model_name": "DescriptionStyleModel",
      "_view_count": null,
      "_view_module": "@jupyter-widgets/base",
      "_view_module_version": "1.2.0",
      "_view_name": "StyleView",
      "description_width": ""
     }
    },
    "5d72db5048f74ab48b1f7cc3c9f127dc": {
     "model_module": "@jupyter-widgets/controls",
     "model_module_version": "1.5.0",
     "model_name": "DescriptionStyleModel",
     "state": {
      "_model_module": "@jupyter-widgets/controls",
      "_model_module_version": "1.5.0",
      "_model_name": "DescriptionStyleModel",
      "_view_count": null,
      "_view_module": "@jupyter-widgets/base",
      "_view_module_version": "1.2.0",
      "_view_name": "StyleView",
      "description_width": ""
     }
    },
    "745b78d9df21456ba3d76f16f89736a8": {
     "model_module": "@jupyter-widgets/controls",
     "model_module_version": "1.5.0",
     "model_name": "DescriptionStyleModel",
     "state": {
      "_model_module": "@jupyter-widgets/controls",
      "_model_module_version": "1.5.0",
      "_model_name": "DescriptionStyleModel",
      "_view_count": null,
      "_view_module": "@jupyter-widgets/base",
      "_view_module_version": "1.2.0",
      "_view_name": "StyleView",
      "description_width": ""
     }
    },
    "958957c3dd0a4bad83230f69c1c0a825": {
     "model_module": "@jupyter-widgets/base",
     "model_module_version": "1.2.0",
     "model_name": "LayoutModel",
     "state": {
      "_model_module": "@jupyter-widgets/base",
      "_model_module_version": "1.2.0",
      "_model_name": "LayoutModel",
      "_view_count": null,
      "_view_module": "@jupyter-widgets/base",
      "_view_module_version": "1.2.0",
      "_view_name": "LayoutView",
      "align_content": null,
      "align_items": null,
      "align_self": null,
      "border": null,
      "bottom": null,
      "display": null,
      "flex": null,
      "flex_flow": null,
      "grid_area": null,
      "grid_auto_columns": null,
      "grid_auto_flow": null,
      "grid_auto_rows": null,
      "grid_column": null,
      "grid_gap": null,
      "grid_row": null,
      "grid_template_areas": null,
      "grid_template_columns": null,
      "grid_template_rows": null,
      "height": null,
      "justify_content": null,
      "justify_items": null,
      "left": null,
      "margin": null,
      "max_height": null,
      "max_width": null,
      "min_height": null,
      "min_width": null,
      "object_fit": null,
      "object_position": null,
      "order": null,
      "overflow": null,
      "overflow_x": null,
      "overflow_y": null,
      "padding": null,
      "right": null,
      "top": null,
      "visibility": null,
      "width": null
     }
    },
    "96ea05fe49ea4fd9af2d1f402559ba29": {
     "model_module": "@jupyter-widgets/base",
     "model_module_version": "1.2.0",
     "model_name": "LayoutModel",
     "state": {
      "_model_module": "@jupyter-widgets/base",
      "_model_module_version": "1.2.0",
      "_model_name": "LayoutModel",
      "_view_count": null,
      "_view_module": "@jupyter-widgets/base",
      "_view_module_version": "1.2.0",
      "_view_name": "LayoutView",
      "align_content": null,
      "align_items": null,
      "align_self": null,
      "border": null,
      "bottom": null,
      "display": null,
      "flex": null,
      "flex_flow": null,
      "grid_area": null,
      "grid_auto_columns": null,
      "grid_auto_flow": null,
      "grid_auto_rows": null,
      "grid_column": null,
      "grid_gap": null,
      "grid_row": null,
      "grid_template_areas": null,
      "grid_template_columns": null,
      "grid_template_rows": null,
      "height": null,
      "justify_content": null,
      "justify_items": null,
      "left": null,
      "margin": null,
      "max_height": null,
      "max_width": null,
      "min_height": null,
      "min_width": null,
      "object_fit": null,
      "object_position": null,
      "order": null,
      "overflow": null,
      "overflow_x": null,
      "overflow_y": null,
      "padding": null,
      "right": null,
      "top": null,
      "visibility": null,
      "width": null
     }
    },
    "ab79029126534f6cbc0ca666a2301e80": {
     "model_module": "@jupyter-widgets/controls",
     "model_module_version": "1.5.0",
     "model_name": "HTMLModel",
     "state": {
      "_dom_classes": [],
      "_model_module": "@jupyter-widgets/controls",
      "_model_module_version": "1.5.0",
      "_model_name": "HTMLModel",
      "_view_count": null,
      "_view_module": "@jupyter-widgets/controls",
      "_view_module_version": "1.5.0",
      "_view_name": "HTMLView",
      "description": "",
      "description_tooltip": null,
      "layout": "IPY_MODEL_4930258630cf48bfaed88a640deaaa05",
      "placeholder": "​",
      "style": "IPY_MODEL_213d45aed48d458e8e1ae7a681e58d9f",
      "value": " 736/736 [00:00&lt;00:00, 41.8kB/s]"
     }
    },
    "abad913159814e94b35ec5ae13b9e710": {
     "model_module": "@jupyter-widgets/controls",
     "model_module_version": "1.5.0",
     "model_name": "HTMLModel",
     "state": {
      "_dom_classes": [],
      "_model_module": "@jupyter-widgets/controls",
      "_model_module_version": "1.5.0",
      "_model_name": "HTMLModel",
      "_view_count": null,
      "_view_module": "@jupyter-widgets/controls",
      "_view_module_version": "1.5.0",
      "_view_name": "HTMLView",
      "description": "",
      "description_tooltip": null,
      "layout": "IPY_MODEL_f5e6ceeb23364029a2615da3f7adead0",
      "placeholder": "​",
      "style": "IPY_MODEL_5d72db5048f74ab48b1f7cc3c9f127dc",
      "value": "config.json: 100%"
     }
    },
    "b61ae5cc7892417595356070e50af15a": {
     "model_module": "@jupyter-widgets/controls",
     "model_module_version": "1.5.0",
     "model_name": "HTMLModel",
     "state": {
      "_dom_classes": [],
      "_model_module": "@jupyter-widgets/controls",
      "_model_module_version": "1.5.0",
      "_model_name": "HTMLModel",
      "_view_count": null,
      "_view_module": "@jupyter-widgets/controls",
      "_view_module_version": "1.5.0",
      "_view_name": "HTMLView",
      "description": "",
      "description_tooltip": null,
      "layout": "IPY_MODEL_e3d9b6e4249a4090b8f929a2ce9699d2",
      "placeholder": "​",
      "style": "IPY_MODEL_745b78d9df21456ba3d76f16f89736a8",
      "value": " 276/276 [00:00&lt;00:00, 15.2kB/s]"
     }
    },
    "c1c8c78fccd44a70995363ac591de087": {
     "model_module": "@jupyter-widgets/controls",
     "model_module_version": "1.5.0",
     "model_name": "FloatProgressModel",
     "state": {
      "_dom_classes": [],
      "_model_module": "@jupyter-widgets/controls",
      "_model_module_version": "1.5.0",
      "_model_name": "FloatProgressModel",
      "_view_count": null,
      "_view_module": "@jupyter-widgets/controls",
      "_view_module_version": "1.5.0",
      "_view_name": "ProgressView",
      "bar_style": "success",
      "description": "",
      "description_tooltip": null,
      "layout": "IPY_MODEL_eaa0069e358e41f49807dd49566edc9f",
      "max": 368198186,
      "min": 0,
      "orientation": "horizontal",
      "style": "IPY_MODEL_e65b6e2d5a124841a1756d978bb9448e",
      "value": 368198186
     }
    },
    "cae2ab8a7fcb4eeb9d7ef1a8aedb247d": {
     "model_module": "@jupyter-widgets/base",
     "model_module_version": "1.2.0",
     "model_name": "LayoutModel",
     "state": {
      "_model_module": "@jupyter-widgets/base",
      "_model_module_version": "1.2.0",
      "_model_name": "LayoutModel",
      "_view_count": null,
      "_view_module": "@jupyter-widgets/base",
      "_view_module_version": "1.2.0",
      "_view_name": "LayoutView",
      "align_content": null,
      "align_items": null,
      "align_self": null,
      "border": null,
      "bottom": null,
      "display": null,
      "flex": null,
      "flex_flow": null,
      "grid_area": null,
      "grid_auto_columns": null,
      "grid_auto_flow": null,
      "grid_auto_rows": null,
      "grid_column": null,
      "grid_gap": null,
      "grid_row": null,
      "grid_template_areas": null,
      "grid_template_columns": null,
      "grid_template_rows": null,
      "height": null,
      "justify_content": null,
      "justify_items": null,
      "left": null,
      "margin": null,
      "max_height": null,
      "max_width": null,
      "min_height": null,
      "min_width": null,
      "object_fit": null,
      "object_position": null,
      "order": null,
      "overflow": null,
      "overflow_x": null,
      "overflow_y": null,
      "padding": null,
      "right": null,
      "top": null,
      "visibility": null,
      "width": null
     }
    },
    "cb687750b841437a88235d747ba79f6c": {
     "model_module": "@jupyter-widgets/controls",
     "model_module_version": "1.5.0",
     "model_name": "FloatProgressModel",
     "state": {
      "_dom_classes": [],
      "_model_module": "@jupyter-widgets/controls",
      "_model_module_version": "1.5.0",
      "_model_name": "FloatProgressModel",
      "_view_count": null,
      "_view_module": "@jupyter-widgets/controls",
      "_view_module_version": "1.5.0",
      "_view_name": "ProgressView",
      "bar_style": "success",
      "description": "",
      "description_tooltip": null,
      "layout": "IPY_MODEL_4013fd5153734c7f92a13f06ccad7c7b",
      "max": 736,
      "min": 0,
      "orientation": "horizontal",
      "style": "IPY_MODEL_d6d1061f43c04c9a85ef220c920e0642",
      "value": 736
     }
    },
    "d2d78831a4764828897f82e6e74614b1": {
     "model_module": "@jupyter-widgets/base",
     "model_module_version": "1.2.0",
     "model_name": "LayoutModel",
     "state": {
      "_model_module": "@jupyter-widgets/base",
      "_model_module_version": "1.2.0",
      "_model_name": "LayoutModel",
      "_view_count": null,
      "_view_module": "@jupyter-widgets/base",
      "_view_module_version": "1.2.0",
      "_view_name": "LayoutView",
      "align_content": null,
      "align_items": null,
      "align_self": null,
      "border": null,
      "bottom": null,
      "display": null,
      "flex": null,
      "flex_flow": null,
      "grid_area": null,
      "grid_auto_columns": null,
      "grid_auto_flow": null,
      "grid_auto_rows": null,
      "grid_column": null,
      "grid_gap": null,
      "grid_row": null,
      "grid_template_areas": null,
      "grid_template_columns": null,
      "grid_template_rows": null,
      "height": null,
      "justify_content": null,
      "justify_items": null,
      "left": null,
      "margin": null,
      "max_height": null,
      "max_width": null,
      "min_height": null,
      "min_width": null,
      "object_fit": null,
      "object_position": null,
      "order": null,
      "overflow": null,
      "overflow_x": null,
      "overflow_y": null,
      "padding": null,
      "right": null,
      "top": null,
      "visibility": null,
      "width": null
     }
    },
    "d318a2ae8fef464a8c52a9c194f9ff96": {
     "model_module": "@jupyter-widgets/controls",
     "model_module_version": "1.5.0",
     "model_name": "DescriptionStyleModel",
     "state": {
      "_model_module": "@jupyter-widgets/controls",
      "_model_module_version": "1.5.0",
      "_model_name": "DescriptionStyleModel",
      "_view_count": null,
      "_view_module": "@jupyter-widgets/base",
      "_view_module_version": "1.2.0",
      "_view_name": "StyleView",
      "description_width": ""
     }
    },
    "d6d1061f43c04c9a85ef220c920e0642": {
     "model_module": "@jupyter-widgets/controls",
     "model_module_version": "1.5.0",
     "model_name": "ProgressStyleModel",
     "state": {
      "_model_module": "@jupyter-widgets/controls",
      "_model_module_version": "1.5.0",
      "_model_name": "ProgressStyleModel",
      "_view_count": null,
      "_view_module": "@jupyter-widgets/base",
      "_view_module_version": "1.2.0",
      "_view_name": "StyleView",
      "bar_color": null,
      "description_width": ""
     }
    },
    "d76283127e854bbdb122aa4ee37d4e63": {
     "model_module": "@jupyter-widgets/base",
     "model_module_version": "1.2.0",
     "model_name": "LayoutModel",
     "state": {
      "_model_module": "@jupyter-widgets/base",
      "_model_module_version": "1.2.0",
      "_model_name": "LayoutModel",
      "_view_count": null,
      "_view_module": "@jupyter-widgets/base",
      "_view_module_version": "1.2.0",
      "_view_name": "LayoutView",
      "align_content": null,
      "align_items": null,
      "align_self": null,
      "border": null,
      "bottom": null,
      "display": null,
      "flex": null,
      "flex_flow": null,
      "grid_area": null,
      "grid_auto_columns": null,
      "grid_auto_flow": null,
      "grid_auto_rows": null,
      "grid_column": null,
      "grid_gap": null,
      "grid_row": null,
      "grid_template_areas": null,
      "grid_template_columns": null,
      "grid_template_rows": null,
      "height": null,
      "justify_content": null,
      "justify_items": null,
      "left": null,
      "margin": null,
      "max_height": null,
      "max_width": null,
      "min_height": null,
      "min_width": null,
      "object_fit": null,
      "object_position": null,
      "order": null,
      "overflow": null,
      "overflow_x": null,
      "overflow_y": null,
      "padding": null,
      "right": null,
      "top": null,
      "visibility": null,
      "width": null
     }
    },
    "e114c89668d74d849677d4aa62ee2a1b": {
     "model_module": "@jupyter-widgets/controls",
     "model_module_version": "1.5.0",
     "model_name": "HTMLModel",
     "state": {
      "_dom_classes": [],
      "_model_module": "@jupyter-widgets/controls",
      "_model_module_version": "1.5.0",
      "_model_name": "HTMLModel",
      "_view_count": null,
      "_view_module": "@jupyter-widgets/controls",
      "_view_module_version": "1.5.0",
      "_view_name": "HTMLView",
      "description": "",
      "description_tooltip": null,
      "layout": "IPY_MODEL_d2d78831a4764828897f82e6e74614b1",
      "placeholder": "​",
      "style": "IPY_MODEL_5b9af33cc6a24296b45442dd2ffe0677",
      "value": "model.safetensors: 100%"
     }
    },
    "e2ae422c950346feb17f7fdb34ee51c7": {
     "model_module": "@jupyter-widgets/base",
     "model_module_version": "1.2.0",
     "model_name": "LayoutModel",
     "state": {
      "_model_module": "@jupyter-widgets/base",
      "_model_module_version": "1.2.0",
      "_model_name": "LayoutModel",
      "_view_count": null,
      "_view_module": "@jupyter-widgets/base",
      "_view_module_version": "1.2.0",
      "_view_name": "LayoutView",
      "align_content": null,
      "align_items": null,
      "align_self": null,
      "border": null,
      "bottom": null,
      "display": null,
      "flex": null,
      "flex_flow": null,
      "grid_area": null,
      "grid_auto_columns": null,
      "grid_auto_flow": null,
      "grid_auto_rows": null,
      "grid_column": null,
      "grid_gap": null,
      "grid_row": null,
      "grid_template_areas": null,
      "grid_template_columns": null,
      "grid_template_rows": null,
      "height": null,
      "justify_content": null,
      "justify_items": null,
      "left": null,
      "margin": null,
      "max_height": null,
      "max_width": null,
      "min_height": null,
      "min_width": null,
      "object_fit": null,
      "object_position": null,
      "order": null,
      "overflow": null,
      "overflow_x": null,
      "overflow_y": null,
      "padding": null,
      "right": null,
      "top": null,
      "visibility": null,
      "width": null
     }
    },
    "e3d9b6e4249a4090b8f929a2ce9699d2": {
     "model_module": "@jupyter-widgets/base",
     "model_module_version": "1.2.0",
     "model_name": "LayoutModel",
     "state": {
      "_model_module": "@jupyter-widgets/base",
      "_model_module_version": "1.2.0",
      "_model_name": "LayoutModel",
      "_view_count": null,
      "_view_module": "@jupyter-widgets/base",
      "_view_module_version": "1.2.0",
      "_view_name": "LayoutView",
      "align_content": null,
      "align_items": null,
      "align_self": null,
      "border": null,
      "bottom": null,
      "display": null,
      "flex": null,
      "flex_flow": null,
      "grid_area": null,
      "grid_auto_columns": null,
      "grid_auto_flow": null,
      "grid_auto_rows": null,
      "grid_column": null,
      "grid_gap": null,
      "grid_row": null,
      "grid_template_areas": null,
      "grid_template_columns": null,
      "grid_template_rows": null,
      "height": null,
      "justify_content": null,
      "justify_items": null,
      "left": null,
      "margin": null,
      "max_height": null,
      "max_width": null,
      "min_height": null,
      "min_width": null,
      "object_fit": null,
      "object_position": null,
      "order": null,
      "overflow": null,
      "overflow_x": null,
      "overflow_y": null,
      "padding": null,
      "right": null,
      "top": null,
      "visibility": null,
      "width": null
     }
    },
    "e3f96b1710bc4912972ca10d91442229": {
     "model_module": "@jupyter-widgets/controls",
     "model_module_version": "1.5.0",
     "model_name": "HBoxModel",
     "state": {
      "_dom_classes": [],
      "_model_module": "@jupyter-widgets/controls",
      "_model_module_version": "1.5.0",
      "_model_name": "HBoxModel",
      "_view_count": null,
      "_view_module": "@jupyter-widgets/controls",
      "_view_module_version": "1.5.0",
      "_view_name": "HBoxView",
      "box_style": "",
      "children": [
       "IPY_MODEL_e114c89668d74d849677d4aa62ee2a1b",
       "IPY_MODEL_c1c8c78fccd44a70995363ac591de087",
       "IPY_MODEL_51230cbe706d4c2eb4a6c041162bbebc"
      ],
      "layout": "IPY_MODEL_e2ae422c950346feb17f7fdb34ee51c7"
     }
    },
    "e65b6e2d5a124841a1756d978bb9448e": {
     "model_module": "@jupyter-widgets/controls",
     "model_module_version": "1.5.0",
     "model_name": "ProgressStyleModel",
     "state": {
      "_model_module": "@jupyter-widgets/controls",
      "_model_module_version": "1.5.0",
      "_model_name": "ProgressStyleModel",
      "_view_count": null,
      "_view_module": "@jupyter-widgets/base",
      "_view_module_version": "1.2.0",
      "_view_name": "StyleView",
      "bar_color": null,
      "description_width": ""
     }
    },
    "eaa0069e358e41f49807dd49566edc9f": {
     "model_module": "@jupyter-widgets/base",
     "model_module_version": "1.2.0",
     "model_name": "LayoutModel",
     "state": {
      "_model_module": "@jupyter-widgets/base",
      "_model_module_version": "1.2.0",
      "_model_name": "LayoutModel",
      "_view_count": null,
      "_view_module": "@jupyter-widgets/base",
      "_view_module_version": "1.2.0",
      "_view_name": "LayoutView",
      "align_content": null,
      "align_items": null,
      "align_self": null,
      "border": null,
      "bottom": null,
      "display": null,
      "flex": null,
      "flex_flow": null,
      "grid_area": null,
      "grid_auto_columns": null,
      "grid_auto_flow": null,
      "grid_auto_rows": null,
      "grid_column": null,
      "grid_gap": null,
      "grid_row": null,
      "grid_template_areas": null,
      "grid_template_columns": null,
      "grid_template_rows": null,
      "height": null,
      "justify_content": null,
      "justify_items": null,
      "left": null,
      "margin": null,
      "max_height": null,
      "max_width": null,
      "min_height": null,
      "min_width": null,
      "object_fit": null,
      "object_position": null,
      "order": null,
      "overflow": null,
      "overflow_x": null,
      "overflow_y": null,
      "padding": null,
      "right": null,
      "top": null,
      "visibility": null,
      "width": null
     }
    },
    "f5e6ceeb23364029a2615da3f7adead0": {
     "model_module": "@jupyter-widgets/base",
     "model_module_version": "1.2.0",
     "model_name": "LayoutModel",
     "state": {
      "_model_module": "@jupyter-widgets/base",
      "_model_module_version": "1.2.0",
      "_model_name": "LayoutModel",
      "_view_count": null,
      "_view_module": "@jupyter-widgets/base",
      "_view_module_version": "1.2.0",
      "_view_name": "LayoutView",
      "align_content": null,
      "align_items": null,
      "align_self": null,
      "border": null,
      "bottom": null,
      "display": null,
      "flex": null,
      "flex_flow": null,
      "grid_area": null,
      "grid_auto_columns": null,
      "grid_auto_flow": null,
      "grid_auto_rows": null,
      "grid_column": null,
      "grid_gap": null,
      "grid_row": null,
      "grid_template_areas": null,
      "grid_template_columns": null,
      "grid_template_rows": null,
      "height": null,
      "justify_content": null,
      "justify_items": null,
      "left": null,
      "margin": null,
      "max_height": null,
      "max_width": null,
      "min_height": null,
      "min_width": null,
      "object_fit": null,
      "object_position": null,
      "order": null,
      "overflow": null,
      "overflow_x": null,
      "overflow_y": null,
      "padding": null,
      "right": null,
      "top": null,
      "visibility": null,
      "width": null
     }
    }
   }
  }
 },
 "nbformat": 4,
 "nbformat_minor": 4
}
